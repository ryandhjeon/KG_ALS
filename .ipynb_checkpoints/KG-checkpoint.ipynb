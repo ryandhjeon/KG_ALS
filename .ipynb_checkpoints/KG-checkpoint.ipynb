{
 "cells": [
  {
   "cell_type": "code",
   "execution_count": 1,
   "id": "fae1bf03-7e54-44f7-99ae-1c5e65135672",
   "metadata": {},
   "outputs": [],
   "source": [
    "import requests\n",
    "import json\n",
    "import csv\n",
    "import io\n",
    "from py2neo import Graph\n",
    "from neo4j import GraphDatabase, basic_auth"
   ]
  },
  {
   "cell_type": "code",
   "execution_count": 2,
   "id": "5810deb5-59da-4800-8b10-36faec51c071",
   "metadata": {},
   "outputs": [],
   "source": [
    "def SubmitPMIDList(Pmid,Format,Bioconcept):\n",
    "\n",
    "    json = {\"pmids\": Pmid}\n",
    "    \n",
    "    if Bioconcept != \"\": \n",
    "        json[\"concepts\"] = Bioconcept.split(\",\")\n",
    "        \n",
    "    r = requests.post(\"https://www.ncbi.nlm.nih.gov/research/pubtator-api/publications/export/\"+Format , json = json)\n",
    "    res = r.json()\n",
    "    \n",
    "    pmid = res['id']\n",
    "    res0 = res['passages'][0]['annotations']\n",
    "    res1 = res['passages'][1]['annotations']\n",
    "    \n",
    "    result = {}\n",
    "    result = res0 + res1\n",
    "    \n",
    "    for i in result:\n",
    "        i['pmid'] = pmid\n",
    "    \n",
    "    if r.status_code != 200 :\n",
    "        print (\"[Error]: HTTP code \"+ str(r.status_code))\n",
    "    else:\n",
    "        return result"
   ]
  },
  {
   "cell_type": "code",
   "execution_count": null,
   "id": "01c16157-d7fc-48c4-b302-ea21d212ea29",
   "metadata": {},
   "outputs": [],
   "source": [
    "def SubmitPMIDList(Pmcid,Format,Bioconcept):\n",
    "\n",
    "    json = {\"Pmcids\": Pmcid}\n",
    "    \n",
    "    if Bioconcept != \"\": \n",
    "        json[\"concepts\"] = Bioconcept.split(\",\")\n",
    "        \n",
    "    r = requests.post(\"https://www.ncbi.nlm.nih.gov/research/pubtator-api/publications/export/\"+Format , json = json)\n",
    "    res = r.json()\n",
    "    \n",
    "    pmcid = res['id']\n",
    "    res0 = res['passages'][0]['annotations']\n",
    "    res1 = res['passages'][1]['annotations']\n",
    "    \n",
    "    result = {}\n",
    "    result = res0 + res1\n",
    "    \n",
    "    for i in result:\n",
    "        i['Pmcid'] = Pmcid\n",
    "    \n",
    "    if r.status_code != 200 :\n",
    "        print (\"[Error]: HTTP code \"+ str(r.status_code))\n",
    "    else:\n",
    "        return result"
   ]
  },
  {
   "cell_type": "code",
   "execution_count": 3,
   "id": "0f89b164-25c6-4431-820b-8ca27db4d75e",
   "metadata": {},
   "outputs": [],
   "source": [
    "Inputfile = \"./pmcid\"\n",
    "Format = \"biocjson\"\n",
    "Bioconcept = \"\"\n",
    "res_json=[]"
   ]
  },
  {
   "cell_type": "code",
   "execution_count": 4,
   "id": "af1791e6-839a-49e2-a0a4-e460be305b35",
   "metadata": {},
   "outputs": [],
   "source": [
    "with io.open(Inputfile,'r',encoding=\"utf-8\") as file_input:\n",
    "    pmidlist = {\"pmids\": [pmid.strip() for pmid in file_input.readlines()]}\n",
    "\n",
    "for i in pmidlist['pmids']:\n",
    "    res_json.extend(SubmitPMIDList([i], Format, Bioconcept))    "
   ]
  },
  {
   "cell_type": "code",
   "execution_count": 5,
   "id": "8997acbf-35f5-47ff-a2e4-7ac06939b25a",
   "metadata": {},
   "outputs": [],
   "source": [
    "class my_dictionary(dict): \n",
    "    \n",
    "    def __init__(self): \n",
    "        self = dict() \n",
    "          \n",
    "    def add(self, key, value): \n",
    "        self[key] = value \n",
    "\n",
    "dict_list = []\n",
    "\n",
    "for data in res_json:\n",
    "    dict_obj = my_dictionary() \n",
    "    \n",
    "    for key, val in data.items():\n",
    "        if type(val) == dict:    \n",
    "            for k, v in val.items():\n",
    "                dict_obj.add(k, v)\n",
    "        elif type(val) == list:  \n",
    "            for k, v in val[0].items():\n",
    "                dict_obj.add(k, v)\n",
    "        else:\n",
    "            dict_obj.add(key, val)\n",
    "\n",
    "            \n",
    "    dict_list.append(dict_obj)\n",
    "\n",
    "result = []\n",
    "    \n",
    "for item in dict_list:\n",
    "    item = {key: item[key] for key in item.keys() & {'pmid', 'type', 'text'}}\n",
    "    result.append(item)\n",
    "    "
   ]
  },
  {
   "cell_type": "code",
   "execution_count": 6,
   "id": "98bdbdba-65bc-42b5-917d-6eb438e35ca6",
   "metadata": {},
   "outputs": [],
   "source": [
    "result = [dict(t) for t in {tuple(d.items()) for d in result}]"
   ]
  },
  {
   "cell_type": "code",
   "execution_count": 7,
   "id": "9d6e083f-4eae-4a45-9e48-cbf133122074",
   "metadata": {},
   "outputs": [],
   "source": [
    "data_file = open('./response.csv', 'w', newline='')\n",
    "csv_writer = csv.writer(data_file)\n",
    "\n",
    "count = 0\n",
    " \n",
    "for i in result:\n",
    "    if count == 0:\n",
    "        header = i.keys()\n",
    "        csv_writer.writerow(header)\n",
    "        count += 1\n",
    " \n",
    "    csv_writer.writerow(i.values())\n",
    " \n",
    "data_file.close()"
   ]
  },
  {
   "cell_type": "code",
   "execution_count": null,
   "id": "f44ef90e-d2cb-40ee-97b6-a3e25c004aa5",
   "metadata": {},
   "outputs": [],
   "source": []
  }
 ],
 "metadata": {
  "kernelspec": {
   "display_name": "venv",
   "language": "python",
   "name": "venv"
  },
  "language_info": {
   "codemirror_mode": {
    "name": "ipython",
    "version": 3
   },
   "file_extension": ".py",
   "mimetype": "text/x-python",
   "name": "python",
   "nbconvert_exporter": "python",
   "pygments_lexer": "ipython3",
   "version": "3.8.9"
  }
 },
 "nbformat": 4,
 "nbformat_minor": 5
}
