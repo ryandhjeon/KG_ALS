{
 "cells": [
  {
   "cell_type": "code",
   "execution_count": 1,
   "id": "fae1bf03-7e54-44f7-99ae-1c5e65135672",
   "metadata": {},
   "outputs": [],
   "source": [
    "import requests\n",
    "import json\n",
    "import csv\n",
    "import io\n",
    "from py2neo import Graph\n",
    "from neo4j import GraphDatabase, basic_auth"
   ]
  },
  {
   "cell_type": "code",
   "execution_count": 98,
   "id": "5810deb5-59da-4800-8b10-36faec51c071",
   "metadata": {},
   "outputs": [],
   "source": [
    "def SubmitPmcidList(pmcid,Format,Bioconcept):\n",
    "\n",
    "    json = {\"pmcids\": pmcid}\n",
    "    \n",
    "    if Bioconcept != \"\":\n",
    "        json[\"concepts\"] = Bioconcept.split(\",\")\n",
    "        Pr\n",
    "    r = requests.post(\"https://www.ncbi.nlm.nih.gov/research/pubtator-api/publications/export/\"+Format , json = json)\n",
    "    res = r.json()\n",
    "    \n",
    "    result = {}\n",
    "    for i in len(res['passages']):\n",
    "        result.append(res['passages'][i]['annotations'])\n",
    "                 \n",
    "    print(result)\n",
    "                 \n",
    "    pmcid = res['id']\n",
    "    for i in result:\n",
    "        i['pmcid'] = pmcid\n",
    "    \n",
    "    if r.status_code != 200 :\n",
    "        print (\"[Error]: HTTP code \"+ str(r.status_code))\n",
    "    else:\n",
    "        return result"
   ]
  },
  {
   "cell_type": "code",
   "execution_count": 99,
   "id": "0f89b164-25c6-4431-820b-8ca27db4d75e",
   "metadata": {},
   "outputs": [],
   "source": [
    "Inputfile = \"./pmcid\"\n",
    "Format = \"biocjson\"\n",
    "Bioconcept = \"\"\n",
    "res_json=[]"
   ]
  },
  {
   "cell_type": "code",
   "execution_count": 100,
   "id": "af1791e6-839a-49e2-a0a4-e460be305b35",
   "metadata": {},
   "outputs": [
    {
     "ename": "TypeError",
     "evalue": "'int' object is not iterable",
     "output_type": "error",
     "traceback": [
      "\u001b[0;31m---------------------------------------------------------------------------\u001b[0m",
      "\u001b[0;31mTypeError\u001b[0m                                 Traceback (most recent call last)",
      "Input \u001b[0;32mIn [100]\u001b[0m, in \u001b[0;36m<cell line: 4>\u001b[0;34m()\u001b[0m\n\u001b[1;32m      2\u001b[0m     pmcidlist \u001b[38;5;241m=\u001b[39m {\u001b[38;5;124m\"\u001b[39m\u001b[38;5;124mpmcids\u001b[39m\u001b[38;5;124m\"\u001b[39m: [pmcid\u001b[38;5;241m.\u001b[39mstrip() \u001b[38;5;28;01mfor\u001b[39;00m pmcid \u001b[38;5;129;01min\u001b[39;00m file_input\u001b[38;5;241m.\u001b[39mreadlines()]}\n\u001b[1;32m      4\u001b[0m \u001b[38;5;28;01mfor\u001b[39;00m i \u001b[38;5;129;01min\u001b[39;00m pmcidlist[\u001b[38;5;124m'\u001b[39m\u001b[38;5;124mpmcids\u001b[39m\u001b[38;5;124m'\u001b[39m]:\n\u001b[0;32m----> 5\u001b[0m     res_json\u001b[38;5;241m.\u001b[39mextend(\u001b[43mSubmitPmcidList\u001b[49m\u001b[43m(\u001b[49m\u001b[43m[\u001b[49m\u001b[43mi\u001b[49m\u001b[43m]\u001b[49m\u001b[43m,\u001b[49m\u001b[43m \u001b[49m\u001b[43mFormat\u001b[49m\u001b[43m,\u001b[49m\u001b[43m \u001b[49m\u001b[43mBioconcept\u001b[49m\u001b[43m)\u001b[49m)\n",
      "Input \u001b[0;32mIn [98]\u001b[0m, in \u001b[0;36mSubmitPmcidList\u001b[0;34m(pmcid, Format, Bioconcept)\u001b[0m\n\u001b[1;32m      9\u001b[0m res \u001b[38;5;241m=\u001b[39m r\u001b[38;5;241m.\u001b[39mjson()\n\u001b[1;32m     11\u001b[0m result \u001b[38;5;241m=\u001b[39m {}    \n\u001b[0;32m---> 12\u001b[0m \u001b[38;5;28;01mfor\u001b[39;00m i \u001b[38;5;129;01min\u001b[39;00m \u001b[38;5;28mlen\u001b[39m(res[\u001b[38;5;124m'\u001b[39m\u001b[38;5;124mpassages\u001b[39m\u001b[38;5;124m'\u001b[39m]):\n\u001b[1;32m     13\u001b[0m     result\u001b[38;5;241m.\u001b[39mappend(res[\u001b[38;5;124m'\u001b[39m\u001b[38;5;124mpassages\u001b[39m\u001b[38;5;124m'\u001b[39m][i][\u001b[38;5;124m'\u001b[39m\u001b[38;5;124mannotations\u001b[39m\u001b[38;5;124m'\u001b[39m])\n\u001b[1;32m     15\u001b[0m \u001b[38;5;28mprint\u001b[39m(result)\n",
      "\u001b[0;31mTypeError\u001b[0m: 'int' object is not iterable"
     ]
    }
   ],
   "source": [
    "with io.open(Inputfile,'r',encoding=\"utf-8\") as file_input:\n",
    "    pmcidlist = {\"pmcids\": [pmcid.strip() for pmcid in file_input.readlines()]}\n",
    "\n",
    "for i in pmcidlist['pmcids']:\n",
    "    res_json.extend(SubmitPmcidList([i], Format, Bioconcept))   "
   ]
  },
  {
   "cell_type": "code",
   "execution_count": 42,
   "id": "8997acbf-35f5-47ff-a2e4-7ac06939b25a",
   "metadata": {},
   "outputs": [],
   "source": [
    "class my_dictionary(dict): \n",
    "    \n",
    "    def __init__(self): \n",
    "        self = dict() \n",
    "          \n",
    "    def add(self, key, value): \n",
    "        self[key] = value \n",
    "\n",
    "dict_list = []\n",
    "\n",
    "for data in res_json:\n",
    "    dict_obj = my_dictionary() \n",
    "    for key, val in data.items():\n",
    "        if type(val) == dict:    \n",
    "            for k, v in val.items():\n",
    "                dict_obj.add(k, v)\n",
    "        elif type(val) == list:  \n",
    "            for k, v in val[0].items():\n",
    "                dict_obj.add(k, v)\n",
    "        else:\n",
    "            dict_obj.add(key, val)\n",
    "\n",
    "            \n",
    "    dict_list.append(dict_obj)\n",
    "\n",
    "result = []\n",
    "    \n",
    "for item in dict_list:\n",
    "    item = {key: item[key] for key in item.keys() & {'pmcid', 'type', 'text'}}\n",
    "    result.append(item)\n",
    "    "
   ]
  },
  {
   "cell_type": "code",
   "execution_count": 8,
   "id": "98bdbdba-65bc-42b5-917d-6eb438e35ca6",
   "metadata": {},
   "outputs": [
    {
     "data": {
      "text/plain": [
       "[{'text': 'TDP-43', 'pmcid': '6822373', 'type': 'Gene'},\n",
       " {'text': 'ALS', 'pmcid': '6822373', 'type': 'Gene'},\n",
       " {'text': 'CCR2', 'pmcid': '6822373', 'type': 'Gene'}]"
      ]
     },
     "execution_count": 8,
     "metadata": {},
     "output_type": "execute_result"
    }
   ],
   "source": [
    "result = [dict(t) for t in {tuple(d.items()) for d in result}]\n",
    "result"
   ]
  },
  {
   "cell_type": "code",
   "execution_count": 7,
   "id": "9d6e083f-4eae-4a45-9e48-cbf133122074",
   "metadata": {},
   "outputs": [],
   "source": [
    "# data_file = open('./response_pmcid.csv', 'w', newline='')\n",
    "# csv_writer = csv.writer(data_file)\n",
    "\n",
    "# count = 0\n",
    " \n",
    "# for i in result:\n",
    "#     if count == 0:\n",
    "#         header = i.keys()\n",
    "#         csv_writer.writerow(header)\n",
    "#         count += 1\n",
    " \n",
    "#     csv_writer.writerow(i.values())\n",
    " \n",
    "# data_file.close()"
   ]
  },
  {
   "cell_type": "code",
   "execution_count": null,
   "id": "f44ef90e-d2cb-40ee-97b6-a3e25c004aa5",
   "metadata": {},
   "outputs": [],
   "source": []
  }
 ],
 "metadata": {
  "kernelspec": {
   "display_name": "venv",
   "language": "python",
   "name": "venv"
  },
  "language_info": {
   "codemirror_mode": {
    "name": "ipython",
    "version": 3
   },
   "file_extension": ".py",
   "mimetype": "text/x-python",
   "name": "python",
   "nbconvert_exporter": "python",
   "pygments_lexer": "ipython3",
   "version": "3.8.9"
  }
 },
 "nbformat": 4,
 "nbformat_minor": 5
}
