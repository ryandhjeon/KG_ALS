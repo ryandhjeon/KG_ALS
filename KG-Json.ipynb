{
  "cells": [
    {
      "cell_type": "code",
      "source": [
        "!pip install py2neo\n",
        "!pip install neo4j\n",
        "!pip install spacy\n",
        "!pip install scispacy"
      ],
      "metadata": {
        "id": "Gr19HS39MUWK",
        "outputId": "3a12734a-d7e3-401c-f3cc-21700cb1437a",
        "colab": {
          "base_uri": "https://localhost:8080/"
        }
      },
      "id": "Gr19HS39MUWK",
      "execution_count": 1,
      "outputs": [
        {
          "output_type": "stream",
          "name": "stdout",
          "text": [
            "Looking in indexes: https://pypi.org/simple, https://us-python.pkg.dev/colab-wheels/public/simple/\n",
            "Collecting py2neo\n",
            "  Downloading py2neo-2021.2.3-py2.py3-none-any.whl (177 kB)\n",
            "\u001b[K     |████████████████████████████████| 177 kB 5.4 MB/s \n",
            "\u001b[?25hRequirement already satisfied: six>=1.15.0 in /usr/local/lib/python3.7/dist-packages (from py2neo) (1.15.0)\n",
            "Requirement already satisfied: urllib3 in /usr/local/lib/python3.7/dist-packages (from py2neo) (1.24.3)\n",
            "Collecting interchange~=2021.0.4\n",
            "  Downloading interchange-2021.0.4-py2.py3-none-any.whl (28 kB)\n",
            "Requirement already satisfied: pygments>=2.0.0 in /usr/local/lib/python3.7/dist-packages (from py2neo) (2.6.1)\n",
            "Requirement already satisfied: certifi in /usr/local/lib/python3.7/dist-packages (from py2neo) (2022.9.24)\n",
            "Collecting monotonic\n",
            "  Downloading monotonic-1.6-py2.py3-none-any.whl (8.2 kB)\n",
            "Collecting pansi>=2020.7.3\n",
            "  Downloading pansi-2020.7.3-py2.py3-none-any.whl (10 kB)\n",
            "Requirement already satisfied: packaging in /usr/local/lib/python3.7/dist-packages (from py2neo) (21.3)\n",
            "Requirement already satisfied: pytz in /usr/local/lib/python3.7/dist-packages (from interchange~=2021.0.4->py2neo) (2022.5)\n",
            "Requirement already satisfied: pyparsing!=3.0.5,>=2.0.2 in /usr/local/lib/python3.7/dist-packages (from packaging->py2neo) (3.0.9)\n",
            "Installing collected packages: pansi, monotonic, interchange, py2neo\n",
            "Successfully installed interchange-2021.0.4 monotonic-1.6 pansi-2020.7.3 py2neo-2021.2.3\n",
            "Looking in indexes: https://pypi.org/simple, https://us-python.pkg.dev/colab-wheels/public/simple/\n",
            "Collecting neo4j\n",
            "  Downloading neo4j-5.1.0.tar.gz (173 kB)\n",
            "\u001b[K     |████████████████████████████████| 173 kB 5.2 MB/s \n",
            "\u001b[?25hRequirement already satisfied: pytz in /usr/local/lib/python3.7/dist-packages (from neo4j) (2022.5)\n",
            "Building wheels for collected packages: neo4j\n",
            "  Building wheel for neo4j (setup.py) ... \u001b[?25l\u001b[?25hdone\n",
            "  Created wheel for neo4j: filename=neo4j-5.1.0-py3-none-any.whl size=248097 sha256=78e78d4dc23670a555be34047665d0b9a926e75d268f923b1509904f26a6dbcc\n",
            "  Stored in directory: /root/.cache/pip/wheels/64/96/da/c30ec8577a970eadecc436103fbcbf7af1d6398d0ebe32cbab\n",
            "Successfully built neo4j\n",
            "Installing collected packages: neo4j\n",
            "Successfully installed neo4j-5.1.0\n",
            "Looking in indexes: https://pypi.org/simple, https://us-python.pkg.dev/colab-wheels/public/simple/\n",
            "Requirement already satisfied: spacy in /usr/local/lib/python3.7/dist-packages (3.4.2)\n",
            "Requirement already satisfied: pydantic!=1.8,!=1.8.1,<1.11.0,>=1.7.4 in /usr/local/lib/python3.7/dist-packages (from spacy) (1.10.2)\n",
            "Requirement already satisfied: thinc<8.2.0,>=8.1.0 in /usr/local/lib/python3.7/dist-packages (from spacy) (8.1.5)\n",
            "Requirement already satisfied: spacy-loggers<2.0.0,>=1.0.0 in /usr/local/lib/python3.7/dist-packages (from spacy) (1.0.3)\n",
            "Requirement already satisfied: preshed<3.1.0,>=3.0.2 in /usr/local/lib/python3.7/dist-packages (from spacy) (3.0.8)\n",
            "Requirement already satisfied: srsly<3.0.0,>=2.4.3 in /usr/local/lib/python3.7/dist-packages (from spacy) (2.4.5)\n",
            "Requirement already satisfied: langcodes<4.0.0,>=3.2.0 in /usr/local/lib/python3.7/dist-packages (from spacy) (3.3.0)\n",
            "Requirement already satisfied: typing-extensions<4.2.0,>=3.7.4 in /usr/local/lib/python3.7/dist-packages (from spacy) (4.1.1)\n",
            "Requirement already satisfied: pathy>=0.3.5 in /usr/local/lib/python3.7/dist-packages (from spacy) (0.6.2)\n",
            "Requirement already satisfied: packaging>=20.0 in /usr/local/lib/python3.7/dist-packages (from spacy) (21.3)\n",
            "Requirement already satisfied: wasabi<1.1.0,>=0.9.1 in /usr/local/lib/python3.7/dist-packages (from spacy) (0.10.1)\n",
            "Requirement already satisfied: requests<3.0.0,>=2.13.0 in /usr/local/lib/python3.7/dist-packages (from spacy) (2.23.0)\n",
            "Requirement already satisfied: cymem<2.1.0,>=2.0.2 in /usr/local/lib/python3.7/dist-packages (from spacy) (2.0.7)\n",
            "Requirement already satisfied: setuptools in /usr/local/lib/python3.7/dist-packages (from spacy) (57.4.0)\n",
            "Requirement already satisfied: murmurhash<1.1.0,>=0.28.0 in /usr/local/lib/python3.7/dist-packages (from spacy) (1.0.9)\n",
            "Requirement already satisfied: typer<0.5.0,>=0.3.0 in /usr/local/lib/python3.7/dist-packages (from spacy) (0.4.2)\n",
            "Requirement already satisfied: spacy-legacy<3.1.0,>=3.0.10 in /usr/local/lib/python3.7/dist-packages (from spacy) (3.0.10)\n",
            "Requirement already satisfied: jinja2 in /usr/local/lib/python3.7/dist-packages (from spacy) (2.11.3)\n",
            "Requirement already satisfied: tqdm<5.0.0,>=4.38.0 in /usr/local/lib/python3.7/dist-packages (from spacy) (4.64.1)\n",
            "Requirement already satisfied: numpy>=1.15.0 in /usr/local/lib/python3.7/dist-packages (from spacy) (1.21.6)\n",
            "Requirement already satisfied: catalogue<2.1.0,>=2.0.6 in /usr/local/lib/python3.7/dist-packages (from spacy) (2.0.8)\n",
            "Requirement already satisfied: zipp>=0.5 in /usr/local/lib/python3.7/dist-packages (from catalogue<2.1.0,>=2.0.6->spacy) (3.9.0)\n",
            "Requirement already satisfied: pyparsing!=3.0.5,>=2.0.2 in /usr/local/lib/python3.7/dist-packages (from packaging>=20.0->spacy) (3.0.9)\n",
            "Requirement already satisfied: smart-open<6.0.0,>=5.2.1 in /usr/local/lib/python3.7/dist-packages (from pathy>=0.3.5->spacy) (5.2.1)\n",
            "Requirement already satisfied: chardet<4,>=3.0.2 in /usr/local/lib/python3.7/dist-packages (from requests<3.0.0,>=2.13.0->spacy) (3.0.4)\n",
            "Requirement already satisfied: certifi>=2017.4.17 in /usr/local/lib/python3.7/dist-packages (from requests<3.0.0,>=2.13.0->spacy) (2022.9.24)\n",
            "Requirement already satisfied: idna<3,>=2.5 in /usr/local/lib/python3.7/dist-packages (from requests<3.0.0,>=2.13.0->spacy) (2.10)\n",
            "Requirement already satisfied: urllib3!=1.25.0,!=1.25.1,<1.26,>=1.21.1 in /usr/local/lib/python3.7/dist-packages (from requests<3.0.0,>=2.13.0->spacy) (1.24.3)\n",
            "Requirement already satisfied: blis<0.8.0,>=0.7.8 in /usr/local/lib/python3.7/dist-packages (from thinc<8.2.0,>=8.1.0->spacy) (0.7.9)\n",
            "Requirement already satisfied: confection<1.0.0,>=0.0.1 in /usr/local/lib/python3.7/dist-packages (from thinc<8.2.0,>=8.1.0->spacy) (0.0.3)\n",
            "Requirement already satisfied: click<9.0.0,>=7.1.1 in /usr/local/lib/python3.7/dist-packages (from typer<0.5.0,>=0.3.0->spacy) (7.1.2)\n",
            "Requirement already satisfied: MarkupSafe>=0.23 in /usr/local/lib/python3.7/dist-packages (from jinja2->spacy) (2.0.1)\n",
            "Looking in indexes: https://pypi.org/simple, https://us-python.pkg.dev/colab-wheels/public/simple/\n",
            "Collecting scispacy\n",
            "  Downloading scispacy-0.5.1-py3-none-any.whl (44 kB)\n",
            "\u001b[K     |████████████████████████████████| 44 kB 2.0 MB/s \n",
            "\u001b[?25hRequirement already satisfied: joblib in /usr/local/lib/python3.7/dist-packages (from scispacy) (1.2.0)\n",
            "Requirement already satisfied: spacy<3.5.0,>=3.4.0 in /usr/local/lib/python3.7/dist-packages (from scispacy) (3.4.2)\n",
            "Requirement already satisfied: numpy in /usr/local/lib/python3.7/dist-packages (from scispacy) (1.21.6)\n",
            "Collecting pysbd\n",
            "  Downloading pysbd-0.3.4-py3-none-any.whl (71 kB)\n",
            "\u001b[K     |████████████████████████████████| 71 kB 4.6 MB/s \n",
            "\u001b[?25hCollecting nmslib>=1.7.3.6\n",
            "  Downloading nmslib-2.1.1-cp37-cp37m-manylinux2010_x86_64.whl (13.5 MB)\n",
            "\u001b[K     |████████████████████████████████| 13.5 MB 45.7 MB/s \n",
            "\u001b[?25hRequirement already satisfied: requests<3.0.0,>=2.0.0 in /usr/local/lib/python3.7/dist-packages (from scispacy) (2.23.0)\n",
            "Collecting conllu\n",
            "  Downloading conllu-4.5.2-py2.py3-none-any.whl (16 kB)\n",
            "Requirement already satisfied: scikit-learn>=0.20.3 in /usr/local/lib/python3.7/dist-packages (from scispacy) (1.0.2)\n",
            "Collecting pybind11<2.6.2\n",
            "  Downloading pybind11-2.6.1-py2.py3-none-any.whl (188 kB)\n",
            "\u001b[K     |████████████████████████████████| 188 kB 41.2 MB/s \n",
            "\u001b[?25hRequirement already satisfied: psutil in /usr/local/lib/python3.7/dist-packages (from nmslib>=1.7.3.6->scispacy) (5.4.8)\n",
            "Requirement already satisfied: certifi>=2017.4.17 in /usr/local/lib/python3.7/dist-packages (from requests<3.0.0,>=2.0.0->scispacy) (2022.9.24)\n",
            "Requirement already satisfied: idna<3,>=2.5 in /usr/local/lib/python3.7/dist-packages (from requests<3.0.0,>=2.0.0->scispacy) (2.10)\n",
            "Requirement already satisfied: chardet<4,>=3.0.2 in /usr/local/lib/python3.7/dist-packages (from requests<3.0.0,>=2.0.0->scispacy) (3.0.4)\n",
            "Requirement already satisfied: urllib3!=1.25.0,!=1.25.1,<1.26,>=1.21.1 in /usr/local/lib/python3.7/dist-packages (from requests<3.0.0,>=2.0.0->scispacy) (1.24.3)\n",
            "Requirement already satisfied: threadpoolctl>=2.0.0 in /usr/local/lib/python3.7/dist-packages (from scikit-learn>=0.20.3->scispacy) (3.1.0)\n",
            "Requirement already satisfied: scipy>=1.1.0 in /usr/local/lib/python3.7/dist-packages (from scikit-learn>=0.20.3->scispacy) (1.7.3)\n",
            "Requirement already satisfied: pydantic!=1.8,!=1.8.1,<1.11.0,>=1.7.4 in /usr/local/lib/python3.7/dist-packages (from spacy<3.5.0,>=3.4.0->scispacy) (1.10.2)\n",
            "Requirement already satisfied: srsly<3.0.0,>=2.4.3 in /usr/local/lib/python3.7/dist-packages (from spacy<3.5.0,>=3.4.0->scispacy) (2.4.5)\n",
            "Requirement already satisfied: packaging>=20.0 in /usr/local/lib/python3.7/dist-packages (from spacy<3.5.0,>=3.4.0->scispacy) (21.3)\n",
            "Requirement already satisfied: thinc<8.2.0,>=8.1.0 in /usr/local/lib/python3.7/dist-packages (from spacy<3.5.0,>=3.4.0->scispacy) (8.1.5)\n",
            "Requirement already satisfied: typing-extensions<4.2.0,>=3.7.4 in /usr/local/lib/python3.7/dist-packages (from spacy<3.5.0,>=3.4.0->scispacy) (4.1.1)\n",
            "Requirement already satisfied: preshed<3.1.0,>=3.0.2 in /usr/local/lib/python3.7/dist-packages (from spacy<3.5.0,>=3.4.0->scispacy) (3.0.8)\n",
            "Requirement already satisfied: cymem<2.1.0,>=2.0.2 in /usr/local/lib/python3.7/dist-packages (from spacy<3.5.0,>=3.4.0->scispacy) (2.0.7)\n",
            "Requirement already satisfied: wasabi<1.1.0,>=0.9.1 in /usr/local/lib/python3.7/dist-packages (from spacy<3.5.0,>=3.4.0->scispacy) (0.10.1)\n",
            "Requirement already satisfied: spacy-legacy<3.1.0,>=3.0.10 in /usr/local/lib/python3.7/dist-packages (from spacy<3.5.0,>=3.4.0->scispacy) (3.0.10)\n",
            "Requirement already satisfied: pathy>=0.3.5 in /usr/local/lib/python3.7/dist-packages (from spacy<3.5.0,>=3.4.0->scispacy) (0.6.2)\n",
            "Requirement already satisfied: spacy-loggers<2.0.0,>=1.0.0 in /usr/local/lib/python3.7/dist-packages (from spacy<3.5.0,>=3.4.0->scispacy) (1.0.3)\n",
            "Requirement already satisfied: typer<0.5.0,>=0.3.0 in /usr/local/lib/python3.7/dist-packages (from spacy<3.5.0,>=3.4.0->scispacy) (0.4.2)\n",
            "Requirement already satisfied: setuptools in /usr/local/lib/python3.7/dist-packages (from spacy<3.5.0,>=3.4.0->scispacy) (57.4.0)\n",
            "Requirement already satisfied: catalogue<2.1.0,>=2.0.6 in /usr/local/lib/python3.7/dist-packages (from spacy<3.5.0,>=3.4.0->scispacy) (2.0.8)\n",
            "Requirement already satisfied: langcodes<4.0.0,>=3.2.0 in /usr/local/lib/python3.7/dist-packages (from spacy<3.5.0,>=3.4.0->scispacy) (3.3.0)\n",
            "Requirement already satisfied: murmurhash<1.1.0,>=0.28.0 in /usr/local/lib/python3.7/dist-packages (from spacy<3.5.0,>=3.4.0->scispacy) (1.0.9)\n",
            "Requirement already satisfied: tqdm<5.0.0,>=4.38.0 in /usr/local/lib/python3.7/dist-packages (from spacy<3.5.0,>=3.4.0->scispacy) (4.64.1)\n",
            "Requirement already satisfied: jinja2 in /usr/local/lib/python3.7/dist-packages (from spacy<3.5.0,>=3.4.0->scispacy) (2.11.3)\n",
            "Requirement already satisfied: zipp>=0.5 in /usr/local/lib/python3.7/dist-packages (from catalogue<2.1.0,>=2.0.6->spacy<3.5.0,>=3.4.0->scispacy) (3.9.0)\n",
            "Requirement already satisfied: pyparsing!=3.0.5,>=2.0.2 in /usr/local/lib/python3.7/dist-packages (from packaging>=20.0->spacy<3.5.0,>=3.4.0->scispacy) (3.0.9)\n",
            "Requirement already satisfied: smart-open<6.0.0,>=5.2.1 in /usr/local/lib/python3.7/dist-packages (from pathy>=0.3.5->spacy<3.5.0,>=3.4.0->scispacy) (5.2.1)\n",
            "Requirement already satisfied: confection<1.0.0,>=0.0.1 in /usr/local/lib/python3.7/dist-packages (from thinc<8.2.0,>=8.1.0->spacy<3.5.0,>=3.4.0->scispacy) (0.0.3)\n",
            "Requirement already satisfied: blis<0.8.0,>=0.7.8 in /usr/local/lib/python3.7/dist-packages (from thinc<8.2.0,>=8.1.0->spacy<3.5.0,>=3.4.0->scispacy) (0.7.9)\n",
            "Requirement already satisfied: click<9.0.0,>=7.1.1 in /usr/local/lib/python3.7/dist-packages (from typer<0.5.0,>=0.3.0->spacy<3.5.0,>=3.4.0->scispacy) (7.1.2)\n",
            "Requirement already satisfied: MarkupSafe>=0.23 in /usr/local/lib/python3.7/dist-packages (from jinja2->spacy<3.5.0,>=3.4.0->scispacy) (2.0.1)\n",
            "Installing collected packages: pybind11, pysbd, nmslib, conllu, scispacy\n",
            "Successfully installed conllu-4.5.2 nmslib-2.1.1 pybind11-2.6.1 pysbd-0.3.4 scispacy-0.5.1\n"
          ]
        }
      ]
    },
    {
      "cell_type": "code",
      "source": [
        "!pip install https://s3-us-west-2.amazonaws.com/ai2-s2-scispacy/releases/v0.5.1/en_core_sci_sm-0.5.1.tar.gz"
      ],
      "metadata": {
        "id": "wIipPGIIwsal",
        "outputId": "5360cf53-9c79-4423-ad94-8582bbf521bd",
        "colab": {
          "base_uri": "https://localhost:8080/"
        }
      },
      "id": "wIipPGIIwsal",
      "execution_count": 14,
      "outputs": [
        {
          "output_type": "stream",
          "name": "stdout",
          "text": [
            "Looking in indexes: https://pypi.org/simple, https://us-python.pkg.dev/colab-wheels/public/simple/\n",
            "Collecting https://s3-us-west-2.amazonaws.com/ai2-s2-scispacy/releases/v0.5.1/en_core_sci_sm-0.5.1.tar.gz\n",
            "  Downloading https://s3-us-west-2.amazonaws.com/ai2-s2-scispacy/releases/v0.5.1/en_core_sci_sm-0.5.1.tar.gz (15.9 MB)\n",
            "\u001b[K     |████████████████████████████████| 15.9 MB 1.3 MB/s \n",
            "\u001b[?25hRequirement already satisfied: spacy<3.5.0,>=3.4.1 in /usr/local/lib/python3.7/dist-packages (from en-core-sci-sm==0.5.1) (3.4.2)\n",
            "Requirement already satisfied: spacy-legacy<3.1.0,>=3.0.10 in /usr/local/lib/python3.7/dist-packages (from spacy<3.5.0,>=3.4.1->en-core-sci-sm==0.5.1) (3.0.10)\n",
            "Requirement already satisfied: langcodes<4.0.0,>=3.2.0 in /usr/local/lib/python3.7/dist-packages (from spacy<3.5.0,>=3.4.1->en-core-sci-sm==0.5.1) (3.3.0)\n",
            "Requirement already satisfied: spacy-loggers<2.0.0,>=1.0.0 in /usr/local/lib/python3.7/dist-packages (from spacy<3.5.0,>=3.4.1->en-core-sci-sm==0.5.1) (1.0.3)\n",
            "Requirement already satisfied: preshed<3.1.0,>=3.0.2 in /usr/local/lib/python3.7/dist-packages (from spacy<3.5.0,>=3.4.1->en-core-sci-sm==0.5.1) (3.0.8)\n",
            "Requirement already satisfied: cymem<2.1.0,>=2.0.2 in /usr/local/lib/python3.7/dist-packages (from spacy<3.5.0,>=3.4.1->en-core-sci-sm==0.5.1) (2.0.7)\n",
            "Requirement already satisfied: setuptools in /usr/local/lib/python3.7/dist-packages (from spacy<3.5.0,>=3.4.1->en-core-sci-sm==0.5.1) (57.4.0)\n",
            "Requirement already satisfied: murmurhash<1.1.0,>=0.28.0 in /usr/local/lib/python3.7/dist-packages (from spacy<3.5.0,>=3.4.1->en-core-sci-sm==0.5.1) (1.0.9)\n",
            "Requirement already satisfied: requests<3.0.0,>=2.13.0 in /usr/local/lib/python3.7/dist-packages (from spacy<3.5.0,>=3.4.1->en-core-sci-sm==0.5.1) (2.23.0)\n",
            "Requirement already satisfied: catalogue<2.1.0,>=2.0.6 in /usr/local/lib/python3.7/dist-packages (from spacy<3.5.0,>=3.4.1->en-core-sci-sm==0.5.1) (2.0.8)\n",
            "Requirement already satisfied: pathy>=0.3.5 in /usr/local/lib/python3.7/dist-packages (from spacy<3.5.0,>=3.4.1->en-core-sci-sm==0.5.1) (0.6.2)\n",
            "Requirement already satisfied: numpy>=1.15.0 in /usr/local/lib/python3.7/dist-packages (from spacy<3.5.0,>=3.4.1->en-core-sci-sm==0.5.1) (1.21.6)\n",
            "Requirement already satisfied: jinja2 in /usr/local/lib/python3.7/dist-packages (from spacy<3.5.0,>=3.4.1->en-core-sci-sm==0.5.1) (2.11.3)\n",
            "Requirement already satisfied: wasabi<1.1.0,>=0.9.1 in /usr/local/lib/python3.7/dist-packages (from spacy<3.5.0,>=3.4.1->en-core-sci-sm==0.5.1) (0.10.1)\n",
            "Requirement already satisfied: typer<0.5.0,>=0.3.0 in /usr/local/lib/python3.7/dist-packages (from spacy<3.5.0,>=3.4.1->en-core-sci-sm==0.5.1) (0.4.2)\n",
            "Requirement already satisfied: typing-extensions<4.2.0,>=3.7.4 in /usr/local/lib/python3.7/dist-packages (from spacy<3.5.0,>=3.4.1->en-core-sci-sm==0.5.1) (4.1.1)\n",
            "Requirement already satisfied: srsly<3.0.0,>=2.4.3 in /usr/local/lib/python3.7/dist-packages (from spacy<3.5.0,>=3.4.1->en-core-sci-sm==0.5.1) (2.4.5)\n",
            "Requirement already satisfied: tqdm<5.0.0,>=4.38.0 in /usr/local/lib/python3.7/dist-packages (from spacy<3.5.0,>=3.4.1->en-core-sci-sm==0.5.1) (4.64.1)\n",
            "Requirement already satisfied: packaging>=20.0 in /usr/local/lib/python3.7/dist-packages (from spacy<3.5.0,>=3.4.1->en-core-sci-sm==0.5.1) (21.3)\n",
            "Requirement already satisfied: thinc<8.2.0,>=8.1.0 in /usr/local/lib/python3.7/dist-packages (from spacy<3.5.0,>=3.4.1->en-core-sci-sm==0.5.1) (8.1.5)\n",
            "Requirement already satisfied: pydantic!=1.8,!=1.8.1,<1.11.0,>=1.7.4 in /usr/local/lib/python3.7/dist-packages (from spacy<3.5.0,>=3.4.1->en-core-sci-sm==0.5.1) (1.10.2)\n",
            "Requirement already satisfied: zipp>=0.5 in /usr/local/lib/python3.7/dist-packages (from catalogue<2.1.0,>=2.0.6->spacy<3.5.0,>=3.4.1->en-core-sci-sm==0.5.1) (3.9.0)\n",
            "Requirement already satisfied: pyparsing!=3.0.5,>=2.0.2 in /usr/local/lib/python3.7/dist-packages (from packaging>=20.0->spacy<3.5.0,>=3.4.1->en-core-sci-sm==0.5.1) (3.0.9)\n",
            "Requirement already satisfied: smart-open<6.0.0,>=5.2.1 in /usr/local/lib/python3.7/dist-packages (from pathy>=0.3.5->spacy<3.5.0,>=3.4.1->en-core-sci-sm==0.5.1) (5.2.1)\n",
            "Requirement already satisfied: idna<3,>=2.5 in /usr/local/lib/python3.7/dist-packages (from requests<3.0.0,>=2.13.0->spacy<3.5.0,>=3.4.1->en-core-sci-sm==0.5.1) (2.10)\n",
            "Requirement already satisfied: urllib3!=1.25.0,!=1.25.1,<1.26,>=1.21.1 in /usr/local/lib/python3.7/dist-packages (from requests<3.0.0,>=2.13.0->spacy<3.5.0,>=3.4.1->en-core-sci-sm==0.5.1) (1.24.3)\n",
            "Requirement already satisfied: certifi>=2017.4.17 in /usr/local/lib/python3.7/dist-packages (from requests<3.0.0,>=2.13.0->spacy<3.5.0,>=3.4.1->en-core-sci-sm==0.5.1) (2022.9.24)\n",
            "Requirement already satisfied: chardet<4,>=3.0.2 in /usr/local/lib/python3.7/dist-packages (from requests<3.0.0,>=2.13.0->spacy<3.5.0,>=3.4.1->en-core-sci-sm==0.5.1) (3.0.4)\n",
            "Requirement already satisfied: blis<0.8.0,>=0.7.8 in /usr/local/lib/python3.7/dist-packages (from thinc<8.2.0,>=8.1.0->spacy<3.5.0,>=3.4.1->en-core-sci-sm==0.5.1) (0.7.9)\n",
            "Requirement already satisfied: confection<1.0.0,>=0.0.1 in /usr/local/lib/python3.7/dist-packages (from thinc<8.2.0,>=8.1.0->spacy<3.5.0,>=3.4.1->en-core-sci-sm==0.5.1) (0.0.3)\n",
            "Requirement already satisfied: click<9.0.0,>=7.1.1 in /usr/local/lib/python3.7/dist-packages (from typer<0.5.0,>=0.3.0->spacy<3.5.0,>=3.4.1->en-core-sci-sm==0.5.1) (7.1.2)\n",
            "Requirement already satisfied: MarkupSafe>=0.23 in /usr/local/lib/python3.7/dist-packages (from jinja2->spacy<3.5.0,>=3.4.1->en-core-sci-sm==0.5.1) (2.0.1)\n",
            "Building wheels for collected packages: en-core-sci-sm\n",
            "  Building wheel for en-core-sci-sm (setup.py) ... \u001b[?25l\u001b[?25hdone\n",
            "  Created wheel for en-core-sci-sm: filename=en_core_sci_sm-0.5.1-py3-none-any.whl size=15870867 sha256=2b64fdcf50c3100502eec0dd74113109815287f6f1796004188c0ecf5d8f852f\n",
            "  Stored in directory: /root/.cache/pip/wheels/cb/0d/9c/03895763b9041405073120fbd58489e4f0d8da9c6bff441b05\n",
            "Successfully built en-core-sci-sm\n",
            "Installing collected packages: en-core-sci-sm\n",
            "Successfully installed en-core-sci-sm-0.5.1\n"
          ]
        }
      ]
    },
    {
      "cell_type": "code",
      "execution_count": 12,
      "id": "fae1bf03-7e54-44f7-99ae-1c5e65135672",
      "metadata": {
        "id": "fae1bf03-7e54-44f7-99ae-1c5e65135672"
      },
      "outputs": [],
      "source": [
        "import requests\n",
        "import json\n",
        "import csv\n",
        "import io\n",
        "import spacy\n",
        "from py2neo import Graph\n",
        "from neo4j import GraphDatabase, basic_auth"
      ]
    },
    {
      "cell_type": "code",
      "execution_count": 3,
      "id": "01c16157-d7fc-48c4-b302-ea21d212ea29",
      "metadata": {
        "id": "01c16157-d7fc-48c4-b302-ea21d212ea29"
      },
      "outputs": [],
      "source": [
        "def SubmitPMIDList(Pmid,Format,Bioconcept):\n",
        "\n",
        "    # json = {\"Pmids\": Pmid}\n",
        "\n",
        "    json = {}\n",
        "\n",
        "    #\n",
        "    # load pmids\n",
        "    #\n",
        "    with io.open(Inputfile,'r',encoding=\"utf-8\") as file_input:\n",
        "        json = {\"pmids\": [pmid.strip() for pmid in file_input.readlines()]}\n",
        "    \n",
        "    if Bioconcept != \"\": \n",
        "        json[\"concepts\"] = Bioconcept.split(\",\")\n",
        "    \n",
        "    print(json)\n",
        "    r = requests.post(\"https://www.ncbi.nlm.nih.gov/research/pubtator-api/publications/export/\" + Format , json = json)\n",
        "    \n",
        "    res = r.json()\n",
        "    print(res)\n",
        "\n",
        "    pmid = res['id']\n",
        "    res0 = res['passages'][0]['annotations']\n",
        "    res1 = res['passages'][1]['annotations']\n",
        "    \n",
        "    result = {}\n",
        "    result = res0 + res1\n",
        "    \n",
        "    for i in result:\n",
        "        i['Pmid'] = Pmid\n",
        "    return result\n",
        "    \n",
        "    if r.status_code != 200 :\n",
        "        print (\"[Error]: HTTP code \"+ str(r.status_code))\n",
        "    else:\n",
        "        return result"
      ]
    },
    {
      "cell_type": "code",
      "execution_count": 7,
      "id": "0f89b164-25c6-4431-820b-8ca27db4d75e",
      "metadata": {
        "id": "0f89b164-25c6-4431-820b-8ca27db4d75e"
      },
      "outputs": [],
      "source": [
        "Inputfile = \"./pmid\"\n",
        "Format = \"biocjson\"\n",
        "Bioconcept = \"\"\n",
        "res_json=[]"
      ]
    },
    {
      "cell_type": "code",
      "execution_count": 8,
      "id": "af1791e6-839a-49e2-a0a4-e460be305b35",
      "metadata": {
        "id": "af1791e6-839a-49e2-a0a4-e460be305b35",
        "outputId": "bc522227-d319-4031-883f-5c8ed98cd63d",
        "colab": {
          "base_uri": "https://localhost:8080/"
        }
      },
      "outputs": [
        {
          "output_type": "stream",
          "name": "stdout",
          "text": [
            "{'pmids': ['35900868']}\n",
            "{'_id': '35900868|None', 'id': '35900868', 'infons': {}, 'passages': [{'infons': {'journal': 'J Clin Invest;2022Jul28. doi:10.1172/JCI161908', 'year': '2022', 'type': 'title', 'authors': 'Lone MA, Aaltonen MJ, Zidell A, Pedro HF, Morales Saute JA, Mathew S, Mohassel P, Bonnemann CG, Shoubridge EA, Hornemann T, ', 'section': 'Title'}, 'offset': 0, 'text': 'SPTLC1 variants associated with ALS produce distinct sphingolipid signatures through impaired interaction with ORMDL proteins.', 'sentences': [], 'annotations': [{'id': '2', 'infons': {'identifier': '10558', 'type': 'Gene', 'ncbi_homologene': '4681'}, 'text': 'SPTLC1', 'locations': [{'offset': 0, 'length': 6}]}, {'id': '3', 'infons': {'identifier': 'MESH:D013107', 'type': 'Chemical'}, 'text': 'sphingolipid', 'locations': [{'offset': 53, 'length': 12}]}], 'relations': []}, {'infons': {'type': 'abstract', 'section': 'Abstract'}, 'offset': 127, 'text': 'Amyotrophic lateral sclerosis (ALS) is a progressive neurodegenerative disease affecting motor neurons. Mutations in the SPTLC1 subunit of serine-palmitoyltransferase (SPT), which catalyzes the first step in the de novo synthesis of sphingolipids cause childhood-onset ALS. SPTLC1-ALS variants map to a transmembrane domain that interacts with ORMDL proteins, negative regulators of SPT activity. We show that ORMDL binding to the holoenzyme complex is impaired in cells expressing pathogenic SPTLC1-ALS alleles, resulting in increased sphingolipid synthesis and a distinct lipid signature. C-terminal SPTLC1 variants cause the peripheral sensory neuropathy HSAN1 due to the synthesis of 1-deoxysphingolipids (1-deoxySLs) that form when SPT metabolizes L-alanine instead of L-serine. Limiting L-serine availability in SPTLC1-ALS expressing cells increased 1-deoxySL and shifted the SL profile from an ALS to an HSAN1-like signature. This effect was corroborated in an SPTLC1-ALS pedigree in which the index patient uniquely presented with an HSAN1 phenotype, increased 1-deoxySL levels, and an L-serine deficiency. These data demonstrate how pathogenic variants in different domains of SPTLC1 give rise to distinct clinical presentations that are nonetheless modifiable by substrate availability.', 'sentences': [], 'annotations': [{'id': '31', 'infons': {'identifier': 'MESH:D000690', 'type': 'Disease'}, 'text': 'Amyotrophic lateral sclerosis', 'locations': [{'offset': 127, 'length': 29}]}, {'id': '32', 'infons': {'identifier': 'MESH:D019636', 'type': 'Disease'}, 'text': 'neurodegenerative disease', 'locations': [{'offset': 180, 'length': 25}]}, {'id': '33', 'infons': {'identifier': '10558', 'type': 'Gene', 'ncbi_homologene': '4681'}, 'text': 'SPTLC1', 'locations': [{'offset': 248, 'length': 6}]}, {'id': '34', 'infons': {'identifier': '189', 'type': 'Gene', 'ncbi_homologene': '37251'}, 'text': 'serine-palmitoyltransferase', 'locations': [{'offset': 266, 'length': 27}]}, {'id': '35', 'infons': {'identifier': '189', 'type': 'Gene', 'ncbi_homologene': '37251'}, 'text': 'SPT', 'locations': [{'offset': 295, 'length': 3}]}, {'id': '36', 'infons': {'identifier': 'MESH:D013107', 'type': 'Chemical'}, 'text': 'sphingolipids', 'locations': [{'offset': 360, 'length': 13}]}, {'id': '37', 'infons': {'identifier': '10558', 'type': 'Gene', 'ncbi_homologene': '4681'}, 'text': 'SPTLC1', 'locations': [{'offset': 401, 'length': 6}]}, {'id': '38', 'infons': {'identifier': '189', 'type': 'Gene', 'ncbi_homologene': '37251'}, 'text': 'SPT', 'locations': [{'offset': 510, 'length': 3}]}, {'id': '39', 'infons': {'identifier': '10558', 'type': 'Gene', 'ncbi_homologene': '4681'}, 'text': 'SPTLC1', 'locations': [{'offset': 620, 'length': 6}]}, {'id': '40', 'infons': {'identifier': 'MESH:D013107', 'type': 'Chemical'}, 'text': 'sphingolipid', 'locations': [{'offset': 663, 'length': 12}]}, {'id': '41', 'infons': {'identifier': 'MESH:D008055', 'type': 'Chemical'}, 'text': 'lipid', 'locations': [{'offset': 701, 'length': 5}]}, {'id': '42', 'infons': {'identifier': '10558', 'type': 'Gene', 'ncbi_homologene': '4681'}, 'text': 'SPTLC1', 'locations': [{'offset': 729, 'length': 6}]}, {'id': '43', 'infons': {'identifier': 'MESH:D000699', 'type': 'Disease'}, 'text': 'sensory neuropathy', 'locations': [{'offset': 766, 'length': 18}]}, {'id': '44', 'infons': {'identifier': '10558', 'type': 'Gene', 'ncbi_homologene': '4681'}, 'text': 'HSAN1', 'locations': [{'offset': 785, 'length': 5}]}, {'id': '45', 'infons': {'identifier': 'MESH:C537409', 'type': 'Disease'}, 'text': '1-deoxysphingolipids (1-deoxySLs', 'locations': [{'offset': 815, 'length': 32}]}, {'id': '46', 'infons': {'identifier': '189', 'type': 'Gene', 'ncbi_homologene': '37251'}, 'text': 'SPT', 'locations': [{'offset': 864, 'length': 3}]}, {'id': '47', 'infons': {'identifier': 'MESH:D000409', 'type': 'Chemical'}, 'text': 'L-alanine', 'locations': [{'offset': 880, 'length': 9}]}, {'id': '48', 'infons': {'identifier': 'MESH:D012694', 'type': 'Chemical'}, 'text': 'serine', 'locations': [{'offset': 903, 'length': 6}]}, {'id': '49', 'infons': {'identifier': 'MESH:D012694', 'type': 'Chemical'}, 'text': 'serine', 'locations': [{'offset': 922, 'length': 6}]}, {'id': '50', 'infons': {'identifier': '10558', 'type': 'Gene', 'ncbi_homologene': '4681'}, 'text': 'SPTLC1', 'locations': [{'offset': 945, 'length': 6}]}, {'id': '51', 'infons': {'identifier': '10558', 'type': 'Gene', 'ncbi_homologene': '4681'}, 'text': 'HSAN1', 'locations': [{'offset': 1038, 'length': 5}]}, {'id': '52', 'infons': {'identifier': '10558', 'type': 'Gene', 'ncbi_homologene': '4681'}, 'text': 'SPTLC1', 'locations': [{'offset': 1095, 'length': 6}]}, {'id': '53', 'infons': {'identifier': '9606', 'type': 'Species'}, 'text': 'patient', 'locations': [{'offset': 1134, 'length': 7}]}, {'id': '54', 'infons': {'identifier': '10558', 'type': 'Gene', 'ncbi_homologene': '4681'}, 'text': 'HSAN1', 'locations': [{'offset': 1169, 'length': 5}]}, {'id': '55', 'infons': {'identifier': 'MESH:C000626286', 'type': 'Chemical'}, 'text': '1-deoxySL', 'locations': [{'offset': 1196, 'length': 9}]}, {'id': '56', 'infons': {'identifier': 'MESH:D012694', 'type': 'Chemical'}, 'text': 'serine', 'locations': [{'offset': 1223, 'length': 6}]}, {'id': '57', 'infons': {'identifier': '10558', 'type': 'Gene', 'ncbi_homologene': '4681'}, 'text': 'SPTLC1', 'locations': [{'offset': 1313, 'length': 6}]}], 'relations': []}], 'relations': [], 'pmid': 35900868, 'pmcid': None, 'created': {'$date': 1659402000780}, 'accessions': ['chemical@MESH:D008055', 'chemical@MESH:C000626286', 'disease@MESH:D019636', 'chemical@MESH:D000409', 'gene@189', 'chemical@MESH:D012694', 'species@9606', 'disease@MESH:C537409', 'chemical@MESH:D013107', 'disease@MESH:D000690', 'gene@10558', 'disease@MESH:D000699'], 'journal': 'J Clin Invest', 'year': 2022, 'authors': ['Lone MA', 'Aaltonen MJ', 'Zidell A', 'Pedro HF', 'Morales Saute JA', 'Mathew S', 'Mohassel P', 'Bonnemann CG', 'Shoubridge EA', 'Hornemann T']}\n"
          ]
        }
      ],
      "source": [
        "with io.open(Inputfile,'r',encoding=\"utf-8\") as file_input:\n",
        "    pmidlist = {\"pmids\": [pmid.strip() for pmid in file_input.readlines()]}\n",
        "    \n",
        "for i in pmidlist['pmids']:\n",
        "    res_json.extend(SubmitPMIDList([i], Format, Bioconcept))"
      ]
    },
    {
      "cell_type": "code",
      "execution_count": 9,
      "id": "6c9dbdad-d443-4a8f-9fbe-f33e4dcbc648",
      "metadata": {
        "id": "6c9dbdad-d443-4a8f-9fbe-f33e4dcbc648",
        "outputId": "4baee1a6-987b-4563-d1a5-5eb0a4386569",
        "colab": {
          "base_uri": "https://localhost:8080/"
        }
      },
      "outputs": [
        {
          "output_type": "execute_result",
          "data": {
            "text/plain": [
              "[{'id': '2',\n",
              "  'infons': {'identifier': '10558', 'type': 'Gene', 'ncbi_homologene': '4681'},\n",
              "  'text': 'SPTLC1',\n",
              "  'locations': [{'offset': 0, 'length': 6}],\n",
              "  'Pmid': ['35900868']},\n",
              " {'id': '3',\n",
              "  'infons': {'identifier': 'MESH:D013107', 'type': 'Chemical'},\n",
              "  'text': 'sphingolipid',\n",
              "  'locations': [{'offset': 53, 'length': 12}],\n",
              "  'Pmid': ['35900868']},\n",
              " {'id': '31',\n",
              "  'infons': {'identifier': 'MESH:D000690', 'type': 'Disease'},\n",
              "  'text': 'Amyotrophic lateral sclerosis',\n",
              "  'locations': [{'offset': 127, 'length': 29}],\n",
              "  'Pmid': ['35900868']},\n",
              " {'id': '32',\n",
              "  'infons': {'identifier': 'MESH:D019636', 'type': 'Disease'},\n",
              "  'text': 'neurodegenerative disease',\n",
              "  'locations': [{'offset': 180, 'length': 25}],\n",
              "  'Pmid': ['35900868']},\n",
              " {'id': '33',\n",
              "  'infons': {'identifier': '10558', 'type': 'Gene', 'ncbi_homologene': '4681'},\n",
              "  'text': 'SPTLC1',\n",
              "  'locations': [{'offset': 248, 'length': 6}],\n",
              "  'Pmid': ['35900868']},\n",
              " {'id': '34',\n",
              "  'infons': {'identifier': '189', 'type': 'Gene', 'ncbi_homologene': '37251'},\n",
              "  'text': 'serine-palmitoyltransferase',\n",
              "  'locations': [{'offset': 266, 'length': 27}],\n",
              "  'Pmid': ['35900868']},\n",
              " {'id': '35',\n",
              "  'infons': {'identifier': '189', 'type': 'Gene', 'ncbi_homologene': '37251'},\n",
              "  'text': 'SPT',\n",
              "  'locations': [{'offset': 295, 'length': 3}],\n",
              "  'Pmid': ['35900868']},\n",
              " {'id': '36',\n",
              "  'infons': {'identifier': 'MESH:D013107', 'type': 'Chemical'},\n",
              "  'text': 'sphingolipids',\n",
              "  'locations': [{'offset': 360, 'length': 13}],\n",
              "  'Pmid': ['35900868']},\n",
              " {'id': '37',\n",
              "  'infons': {'identifier': '10558', 'type': 'Gene', 'ncbi_homologene': '4681'},\n",
              "  'text': 'SPTLC1',\n",
              "  'locations': [{'offset': 401, 'length': 6}],\n",
              "  'Pmid': ['35900868']},\n",
              " {'id': '38',\n",
              "  'infons': {'identifier': '189', 'type': 'Gene', 'ncbi_homologene': '37251'},\n",
              "  'text': 'SPT',\n",
              "  'locations': [{'offset': 510, 'length': 3}],\n",
              "  'Pmid': ['35900868']},\n",
              " {'id': '39',\n",
              "  'infons': {'identifier': '10558', 'type': 'Gene', 'ncbi_homologene': '4681'},\n",
              "  'text': 'SPTLC1',\n",
              "  'locations': [{'offset': 620, 'length': 6}],\n",
              "  'Pmid': ['35900868']},\n",
              " {'id': '40',\n",
              "  'infons': {'identifier': 'MESH:D013107', 'type': 'Chemical'},\n",
              "  'text': 'sphingolipid',\n",
              "  'locations': [{'offset': 663, 'length': 12}],\n",
              "  'Pmid': ['35900868']},\n",
              " {'id': '41',\n",
              "  'infons': {'identifier': 'MESH:D008055', 'type': 'Chemical'},\n",
              "  'text': 'lipid',\n",
              "  'locations': [{'offset': 701, 'length': 5}],\n",
              "  'Pmid': ['35900868']},\n",
              " {'id': '42',\n",
              "  'infons': {'identifier': '10558', 'type': 'Gene', 'ncbi_homologene': '4681'},\n",
              "  'text': 'SPTLC1',\n",
              "  'locations': [{'offset': 729, 'length': 6}],\n",
              "  'Pmid': ['35900868']},\n",
              " {'id': '43',\n",
              "  'infons': {'identifier': 'MESH:D000699', 'type': 'Disease'},\n",
              "  'text': 'sensory neuropathy',\n",
              "  'locations': [{'offset': 766, 'length': 18}],\n",
              "  'Pmid': ['35900868']},\n",
              " {'id': '44',\n",
              "  'infons': {'identifier': '10558', 'type': 'Gene', 'ncbi_homologene': '4681'},\n",
              "  'text': 'HSAN1',\n",
              "  'locations': [{'offset': 785, 'length': 5}],\n",
              "  'Pmid': ['35900868']},\n",
              " {'id': '45',\n",
              "  'infons': {'identifier': 'MESH:C537409', 'type': 'Disease'},\n",
              "  'text': '1-deoxysphingolipids (1-deoxySLs',\n",
              "  'locations': [{'offset': 815, 'length': 32}],\n",
              "  'Pmid': ['35900868']},\n",
              " {'id': '46',\n",
              "  'infons': {'identifier': '189', 'type': 'Gene', 'ncbi_homologene': '37251'},\n",
              "  'text': 'SPT',\n",
              "  'locations': [{'offset': 864, 'length': 3}],\n",
              "  'Pmid': ['35900868']},\n",
              " {'id': '47',\n",
              "  'infons': {'identifier': 'MESH:D000409', 'type': 'Chemical'},\n",
              "  'text': 'L-alanine',\n",
              "  'locations': [{'offset': 880, 'length': 9}],\n",
              "  'Pmid': ['35900868']},\n",
              " {'id': '48',\n",
              "  'infons': {'identifier': 'MESH:D012694', 'type': 'Chemical'},\n",
              "  'text': 'serine',\n",
              "  'locations': [{'offset': 903, 'length': 6}],\n",
              "  'Pmid': ['35900868']},\n",
              " {'id': '49',\n",
              "  'infons': {'identifier': 'MESH:D012694', 'type': 'Chemical'},\n",
              "  'text': 'serine',\n",
              "  'locations': [{'offset': 922, 'length': 6}],\n",
              "  'Pmid': ['35900868']},\n",
              " {'id': '50',\n",
              "  'infons': {'identifier': '10558', 'type': 'Gene', 'ncbi_homologene': '4681'},\n",
              "  'text': 'SPTLC1',\n",
              "  'locations': [{'offset': 945, 'length': 6}],\n",
              "  'Pmid': ['35900868']},\n",
              " {'id': '51',\n",
              "  'infons': {'identifier': '10558', 'type': 'Gene', 'ncbi_homologene': '4681'},\n",
              "  'text': 'HSAN1',\n",
              "  'locations': [{'offset': 1038, 'length': 5}],\n",
              "  'Pmid': ['35900868']},\n",
              " {'id': '52',\n",
              "  'infons': {'identifier': '10558', 'type': 'Gene', 'ncbi_homologene': '4681'},\n",
              "  'text': 'SPTLC1',\n",
              "  'locations': [{'offset': 1095, 'length': 6}],\n",
              "  'Pmid': ['35900868']},\n",
              " {'id': '53',\n",
              "  'infons': {'identifier': '9606', 'type': 'Species'},\n",
              "  'text': 'patient',\n",
              "  'locations': [{'offset': 1134, 'length': 7}],\n",
              "  'Pmid': ['35900868']},\n",
              " {'id': '54',\n",
              "  'infons': {'identifier': '10558', 'type': 'Gene', 'ncbi_homologene': '4681'},\n",
              "  'text': 'HSAN1',\n",
              "  'locations': [{'offset': 1169, 'length': 5}],\n",
              "  'Pmid': ['35900868']},\n",
              " {'id': '55',\n",
              "  'infons': {'identifier': 'MESH:C000626286', 'type': 'Chemical'},\n",
              "  'text': '1-deoxySL',\n",
              "  'locations': [{'offset': 1196, 'length': 9}],\n",
              "  'Pmid': ['35900868']},\n",
              " {'id': '56',\n",
              "  'infons': {'identifier': 'MESH:D012694', 'type': 'Chemical'},\n",
              "  'text': 'serine',\n",
              "  'locations': [{'offset': 1223, 'length': 6}],\n",
              "  'Pmid': ['35900868']},\n",
              " {'id': '57',\n",
              "  'infons': {'identifier': '10558', 'type': 'Gene', 'ncbi_homologene': '4681'},\n",
              "  'text': 'SPTLC1',\n",
              "  'locations': [{'offset': 1313, 'length': 6}],\n",
              "  'Pmid': ['35900868']}]"
            ]
          },
          "metadata": {},
          "execution_count": 9
        }
      ],
      "source": [
        "res_json"
      ]
    },
    {
      "cell_type": "code",
      "source": [
        "#print([res_json['cars'][i]['model'] for i in range(len(x['cars']))])\n",
        "f = open('Pubtator_entities.txt', mode='w')\n",
        "\n",
        "[f.write(res_json[i]['text'] + '\\n') for i in range(len(res_json)) if(res_json[i]['infons']['type'] == 'Gene' or res_json[i]['infons']['type'] == 'Chemical')]\n",
        "f.close()\n",
        "f = open('Pubtator_entities.txt', mode='r')\n",
        "print(f.read())\n",
        "'''\n",
        "for i in range(len(res_json)):\n",
        "  if(res_json[i]['infons']['type'] == 'Gene' or res_json[i]['infons']['type'] == 'Chemical'):\n",
        "    print(res_json[i]['text'], '\\n')\n",
        "'''\n"
      ],
      "metadata": {
        "id": "FOgnSFcUkmZV",
        "outputId": "aaa3690c-eb4c-41ef-e926-680cf2e46ef2",
        "colab": {
          "base_uri": "https://localhost:8080/",
          "height": 486
        }
      },
      "id": "FOgnSFcUkmZV",
      "execution_count": 10,
      "outputs": [
        {
          "output_type": "stream",
          "name": "stdout",
          "text": [
            "SPTLC1\n",
            "sphingolipid\n",
            "SPTLC1\n",
            "serine-palmitoyltransferase\n",
            "SPT\n",
            "sphingolipids\n",
            "SPTLC1\n",
            "SPT\n",
            "SPTLC1\n",
            "sphingolipid\n",
            "lipid\n",
            "SPTLC1\n",
            "HSAN1\n",
            "SPT\n",
            "L-alanine\n",
            "serine\n",
            "serine\n",
            "SPTLC1\n",
            "HSAN1\n",
            "SPTLC1\n",
            "HSAN1\n",
            "1-deoxySL\n",
            "serine\n",
            "SPTLC1\n",
            "\n"
          ]
        },
        {
          "output_type": "execute_result",
          "data": {
            "text/plain": [
              "\"\\nfor i in range(len(res_json)):\\n  if(res_json[i]['infons']['type'] == 'Gene' or res_json[i]['infons']['type'] == 'Chemical'):\\n    print(res_json[i]['text'], '\\n')\\n\""
            ],
            "application/vnd.google.colaboratory.intrinsic+json": {
              "type": "string"
            }
          },
          "metadata": {},
          "execution_count": 10
        }
      ]
    },
    {
      "cell_type": "code",
      "source": [
        "input_text = 'Amyotrophic lateral sclerosis (ALS) is a progressive neurodegenerative disease that affects motor neurons. Mutations in the SPTLC1 subunit of serine palmitoyltransferase (SPT), which catalyzes the first step in the de novo synthesis of sphingolipids (SLs), cause childhood-onset ALS. SPTLC1-ALS variants map to a transmembrane domain that interacts with ORMDL proteins, negative regulators of SPT activity. We show that ORMDL binding to the holoenzyme complex is impaired in cells expressing pathogenic SPTLC1-ALS alleles, resulting in increased SL synthesis and a distinct lipid signature. C-terminal SPTLC1 variants cause peripheral hereditary sensory and autonomic neuropathy type 1 (HSAN1) due to the synthesis of 1-deoxysphingolipids (1-deoxySLs) that form when SPT metabolizes L-alanine instead of L-serine. Limiting L-serine availability in SPTLC1-ALS-expressing cells increased 1-deoxySL and shifted the SL profile from an ALS to an HSAN1-like signature. This effect was corroborated in an SPTLC1-ALS pedigree in which the index patient uniquely presented with an HSAN1 phenotype, increased 1-deoxySL levels, and an L-serine deficiency. These data demonstrate how pathogenic variants in different domains of SPTLC1 give rise to distinct clinical presentations that are nonetheless modifiable by substrate availability.'"
      ],
      "metadata": {
        "id": "3ALpDgKMw-oK"
      },
      "id": "3ALpDgKMw-oK",
      "execution_count": 16,
      "outputs": []
    },
    {
      "cell_type": "code",
      "source": [
        "nlp = spacy.load(\"en_core_sci_sm\") #instantiate scispacy model\n",
        "doc = nlp(input_text)\n",
        "print(doc.ents) # show entities created by the model\n",
        "#for value, rel_dict in doc._.rel.items():\n",
        "#    print(f\"{value}: {rel_dict}\")"
      ],
      "metadata": {
        "id": "k2GoXlGvGiFH",
        "outputId": "bb391a6a-3af3-43ff-b690-5c881415666e",
        "colab": {
          "base_uri": "https://localhost:8080/"
        }
      },
      "id": "k2GoXlGvGiFH",
      "execution_count": 19,
      "outputs": [
        {
          "output_type": "stream",
          "name": "stdout",
          "text": [
            "(Amyotrophic lateral sclerosis, ALS, progressive, neurodegenerative disease, motor neurons, Mutations, SPTLC1 subunit, serine palmitoyltransferase, SPT, de novo, synthesis, sphingolipids, SLs, childhood-onset, ALS, SPTLC1-ALS, variants, map, transmembrane domain, ORMDL proteins, negative, regulators, SPT, activity, ORMDL, binding, holoenzyme complex, impaired, cells, expressing, pathogenic, SPTLC1-ALS, alleles, increased, SL, synthesis, lipid signature, C-terminal, SPTLC1, variants, peripheral, hereditary sensory, autonomic neuropathy type 1, HSAN1, synthesis, 1-deoxysphingolipids, SPT, L-alanine, L-serine, Limiting, L-serine, availability, SPTLC1-ALS-expressing cells, increased, 1-deoxySL, shifted, SL, ALS, HSAN1-like signature, effect, SPTLC1-ALS, pedigree, patient, HSAN1, phenotype, increased, 1-deoxySL levels, L-serine deficiency, data, pathogenic, variants, domains, SPTLC1, clinical presentations, substrate, availability)\n"
          ]
        }
      ]
    }
  ],
  "metadata": {
    "kernelspec": {
      "display_name": "venv",
      "language": "python",
      "name": "venv"
    },
    "language_info": {
      "codemirror_mode": {
        "name": "ipython",
        "version": 3
      },
      "file_extension": ".py",
      "mimetype": "text/x-python",
      "name": "python",
      "nbconvert_exporter": "python",
      "pygments_lexer": "ipython3",
      "version": "3.9.6"
    },
    "colab": {
      "provenance": []
    }
  },
  "nbformat": 4,
  "nbformat_minor": 5
}