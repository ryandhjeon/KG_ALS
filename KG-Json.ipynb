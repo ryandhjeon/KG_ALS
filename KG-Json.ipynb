{
 "cells": [
  {
   "cell_type": "code",
   "execution_count": 1,
   "id": "Gr19HS39MUWK",
   "metadata": {
    "colab": {
     "base_uri": "https://localhost:8080/"
    },
    "id": "Gr19HS39MUWK",
    "outputId": "8c81d64f-591c-41cd-f13b-eb3be4c407eb"
   },
   "outputs": [],
   "source": [
    "#!pip install py2neo\n",
    "#!pip install neo4j\n",
    "#!pip install spacy\n",
    "#!pip install python-dateutil==2.1\n",
    "#!pip install scispacy\n",
    "#!pip install https://s3-us-west-2.amazonaws.com/ai2-s2-scispacy/releases/v0.5.1/en_core_sci_sm-0.5.1.tar.gz\n",
    "#!pip install crosslingual-coreference spacy-transformers==1.1.5 wikipedia neo4j"
   ]
  },
  {
   "cell_type": "code",
   "execution_count": 2,
   "id": "fae1bf03-7e54-44f7-99ae-1c5e65135672",
   "metadata": {
    "id": "fae1bf03-7e54-44f7-99ae-1c5e65135672"
   },
   "outputs": [
    {
     "name": "stderr",
     "output_type": "stream",
     "text": [
      "[nltk_data] Downloading package omw-1.4 to\n",
      "[nltk_data]     C:\\Users\\austi\\AppData\\Roaming\\nltk_data...\n",
      "[nltk_data]   Package omw-1.4 is already up-to-date!\n"
     ]
    }
   ],
   "source": [
    "import requests\n",
    "import json\n",
    "import csv\n",
    "import io\n",
    "import spacy\n",
    "import crosslingual_coreference\n",
    "from spacy import Language, util\n",
    "from spacy.tokens import Doc, Span\n",
    "from transformers import pipeline\n",
    "from typing import List\n",
    "import re\n",
    "import hashlib\n",
    "#from py2neo import Graph\n",
    "#from neo4j import GraphDatabase, basic_auth"
   ]
  },
  {
   "cell_type": "code",
   "execution_count": 3,
   "id": "lEe8gY4QVgc3",
   "metadata": {
    "id": "lEe8gY4QVgc3"
   },
   "outputs": [],
   "source": [
    "# Rebel component adapted from https://github.com/Babelscape/rebel \n",
    "def call_wiki_api(item):\n",
    "  try:\n",
    "    url = f\"https://www.wikidata.org/w/api.php?action=wbsearchentities&search={item}&language=en&format=json\"\n",
    "    data = requests.get(url).json()\n",
    "    # Return the first id (Could upgrade this in the future)\n",
    "    return data['search'][0]['id']\n",
    "  except:\n",
    "    return 'id-less'\n",
    "\n",
    "def extract_triplets(text):\n",
    "    \"\"\"\n",
    "    Function to parse the generated text and extract the triplets\n",
    "    \"\"\"\n",
    "    triplets = []\n",
    "    relation, subject, relation, object_ = '', '', '', ''\n",
    "    text = text.strip()\n",
    "    current = 'x'\n",
    "    for token in text.replace(\"<s>\", \"\").replace(\"<pad>\", \"\").replace(\"</s>\", \"\").split():\n",
    "        if token == \"<triplet>\":\n",
    "            current = 't'\n",
    "            if relation != '':\n",
    "                triplets.append({'head': subject.strip(), 'type': relation.strip(),'tail': object_.strip()})\n",
    "                relation = ''\n",
    "            subject = ''\n",
    "        elif token == \"<subj>\":\n",
    "            current = 's'\n",
    "            if relation != '':\n",
    "                triplets.append({'head': subject.strip(), 'type': relation.strip(),'tail': object_.strip()})\n",
    "            object_ = ''\n",
    "        elif token == \"<obj>\":\n",
    "            current = 'o'\n",
    "            relation = ''\n",
    "        else:\n",
    "            if current == 't':\n",
    "                subject += ' ' + token\n",
    "            elif current == 's':\n",
    "                object_ += ' ' + token\n",
    "            elif current == 'o':\n",
    "                relation += ' ' + token\n",
    "    if subject != '' and relation != '' and object_ != '':\n",
    "        triplets.append({'head': subject.strip(), 'type': relation.strip(),'tail': object_.strip()})\n",
    "\n",
    "    return triplets\n",
    "\n",
    "\n",
    "@Language.factory(\n",
    "    \"rebel\",\n",
    "    requires=[\"doc.sents\"],\n",
    "    assigns=[\"doc._.rel\"],\n",
    "    default_config={\n",
    "        \"model_name\": \"Babelscape/rebel-large\",\n",
    "        \"device\": 0,\n",
    "    },\n",
    ")\n",
    "\n",
    "\n",
    "class RebelComponent:\n",
    "    def __init__(\n",
    "        self,\n",
    "        nlp,\n",
    "        name,\n",
    "        model_name: str,\n",
    "        device: int,\n",
    "    ):\n",
    "        assert model_name is not None, \"\"\n",
    "        self.triplet_extractor = pipeline(\"text2text-generation\", model=model_name, tokenizer=model_name, device=device)\n",
    "        self.entity_mapping = {}\n",
    "        # Register custom extension on the Doc\n",
    "        if not Doc.has_extension(\"rel\"):\n",
    "          Doc.set_extension(\"rel\", default={})\n",
    "\n",
    "    def get_wiki_id(self, item: str):\n",
    "        mapping = self.entity_mapping.get(item)\n",
    "        if mapping:\n",
    "          return mapping\n",
    "        else:\n",
    "          res = call_wiki_api(item)\n",
    "          self.entity_mapping[item] = res\n",
    "          return res\n",
    "\n",
    "    \n",
    "    def _generate_triplets(self, sent: Span) -> List[dict]:\n",
    "          output_ids = self.triplet_extractor(sent.text, return_tensors=True, return_text=False)[0][\"generated_token_ids\"][\"output_ids\"]\n",
    "          extracted_text = self.triplet_extractor.tokenizer.batch_decode(output_ids[0])\n",
    "          extracted_triplets = extract_triplets(extracted_text[0])\n",
    "          return extracted_triplets\n",
    "\n",
    "    def set_annotations(self, doc: Doc, triplets: List[dict]):\n",
    "        for triplet in triplets:\n",
    "\n",
    "            # Remove self-loops (relationships that start and end at the entity)\n",
    "            if triplet['head'] == triplet['tail']:\n",
    "                continue\n",
    "\n",
    "            # Use regex to search for entities\n",
    "            head_span = re.search(triplet[\"head\"], doc.text)\n",
    "            tail_span = re.search(triplet[\"tail\"], doc.text)\n",
    "\n",
    "            # Skip the relation if both head and tail entities are not present in the text\n",
    "            # Sometimes the Rebel model hallucinates some entities\n",
    "            if not head_span or not tail_span:\n",
    "              continue\n",
    "\n",
    "            index = hashlib.sha1(\"\".join([triplet['head'], triplet['tail'], triplet['type']]).encode('utf-8')).hexdigest()\n",
    "            if index not in doc._.rel:\n",
    "                # Get wiki ids and store results\n",
    "                doc._.rel[index] = {\"relation\": triplet[\"type\"], \"head_span\": {'text': triplet['head'], 'id': self.get_wiki_id(triplet['head'])}, \"tail_span\": {'text': triplet['tail'], 'id': self.get_wiki_id(triplet['tail'])}}\n",
    "\n",
    "    def __call__(self, doc: Doc) -> Doc:\n",
    "        for sent in doc.sents:\n",
    "            sentence_triplets = self._generate_triplets(sent)\n",
    "            self.set_annotations(doc, sentence_triplets)\n",
    "        return doc\n",
    "    def pipe(self, stream, batch_size=128):\n",
    "        \"\"\"\n",
    "        It takes a stream of documents, and for each document,\n",
    "        it generates a list of sentence triplets,\n",
    "        and then sets the annotations for each sentence in the document\n",
    "        :param stream: a generator of Doc objects\n",
    "        :param batch_size: The number of documents to process at a time, defaults to 128 (optional)\n",
    "        \"\"\"\n",
    "        for docs in util.minibatch(stream, size=batch_size):\n",
    "            sents = []\n",
    "            for doc in docs:\n",
    "                sents += doc.sents\n",
    "            sentence_triplets = self._generate_triplets(sents)\n",
    "            index = 0\n",
    "            for doc in docs:\n",
    "                n_sent = len(list(doc.sents))\n",
    "                self.set_annotations(doc, sentence_triplets[index : index + n_sent])\n",
    "                index += n_sent\n",
    "                yield doc"
   ]
  },
  {
   "cell_type": "code",
   "execution_count": 4,
   "id": "01c16157-d7fc-48c4-b302-ea21d212ea29",
   "metadata": {
    "id": "01c16157-d7fc-48c4-b302-ea21d212ea29"
   },
   "outputs": [],
   "source": [
    "# Collects abstracts and uses PubTator for a list of PMIDs\n",
    "def SubmitPMIDList(Pmid,Format,Bioconcept):\n",
    "\n",
    "    # json = {\"Pmids\": Pmid}\n",
    "\n",
    "    json = {}\n",
    "\n",
    "    #\n",
    "    # load pmids\n",
    "    #\n",
    "    with io.open(Inputfile,'r',encoding=\"utf-8\") as file_input:\n",
    "        json = {\"pmids\": [pmid.strip() for pmid in file_input.readlines()]}\n",
    "    \n",
    "    if Bioconcept != \"\": \n",
    "        json[\"concepts\"] = Bioconcept.split(\",\")\n",
    "    \n",
    "    print(json)\n",
    "    r = requests.post(\"https://www.ncbi.nlm.nih.gov/research/pubtator-api/publications/export/\" + Format , json = json)\n",
    "    \n",
    "    res = r.json()\n",
    "    print(res)\n",
    "\n",
    "    pmid = res['id']\n",
    "    res0 = res['passages'][0]['annotations']\n",
    "    res1 = res['passages'][1]['annotations']\n",
    "    \n",
    "    result = {}\n",
    "    result = res0 + res1\n",
    "    \n",
    "    for i in result:\n",
    "        i['Pmid'] = Pmid\n",
    "    return result\n",
    "    \n",
    "    if r.status_code != 200 :\n",
    "        print (\"[Error]: HTTP code \"+ str(r.status_code))\n",
    "    else:\n",
    "        return result"
   ]
  },
  {
   "cell_type": "code",
   "execution_count": 5,
   "id": "0f89b164-25c6-4431-820b-8ca27db4d75e",
   "metadata": {
    "id": "0f89b164-25c6-4431-820b-8ca27db4d75e"
   },
   "outputs": [],
   "source": [
    "Inputfile = \"./pmid\"\n",
    "Format = \"biocjson\"\n",
    "Bioconcept = \"\"\n",
    "res_json=[]"
   ]
  },
  {
   "cell_type": "code",
   "execution_count": 6,
   "id": "af1791e6-839a-49e2-a0a4-e460be305b35",
   "metadata": {
    "colab": {
     "base_uri": "https://localhost:8080/"
    },
    "id": "af1791e6-839a-49e2-a0a4-e460be305b35",
    "outputId": "08efdeba-043d-4830-cd52-a7a13f01ff73"
   },
   "outputs": [
    {
     "name": "stdout",
     "output_type": "stream",
     "text": [
      "{'pmids': ['35900868']}\n",
      "{'_id': '35900868|None', 'id': '35900868', 'infons': {}, 'passages': [{'infons': {'journal': 'J Clin Invest;2022Jul28. doi:10.1172/JCI161908', 'year': '2022', 'type': 'title', 'authors': 'Lone MA, Aaltonen MJ, Zidell A, Pedro HF, Morales Saute JA, Mathew S, Mohassel P, Bonnemann CG, Shoubridge EA, Hornemann T, ', 'section': 'Title'}, 'offset': 0, 'text': 'SPTLC1 variants associated with ALS produce distinct sphingolipid signatures through impaired interaction with ORMDL proteins.', 'sentences': [], 'annotations': [{'id': '2', 'infons': {'identifier': '10558', 'type': 'Gene', 'ncbi_homologene': '4681'}, 'text': 'SPTLC1', 'locations': [{'offset': 0, 'length': 6}]}, {'id': '3', 'infons': {'identifier': 'MESH:D013107', 'type': 'Chemical'}, 'text': 'sphingolipid', 'locations': [{'offset': 53, 'length': 12}]}], 'relations': []}, {'infons': {'type': 'abstract', 'section': 'Abstract'}, 'offset': 127, 'text': 'Amyotrophic lateral sclerosis (ALS) is a progressive neurodegenerative disease affecting motor neurons. Mutations in the SPTLC1 subunit of serine-palmitoyltransferase (SPT), which catalyzes the first step in the de novo synthesis of sphingolipids cause childhood-onset ALS. SPTLC1-ALS variants map to a transmembrane domain that interacts with ORMDL proteins, negative regulators of SPT activity. We show that ORMDL binding to the holoenzyme complex is impaired in cells expressing pathogenic SPTLC1-ALS alleles, resulting in increased sphingolipid synthesis and a distinct lipid signature. C-terminal SPTLC1 variants cause the peripheral sensory neuropathy HSAN1 due to the synthesis of 1-deoxysphingolipids (1-deoxySLs) that form when SPT metabolizes L-alanine instead of L-serine. Limiting L-serine availability in SPTLC1-ALS expressing cells increased 1-deoxySL and shifted the SL profile from an ALS to an HSAN1-like signature. This effect was corroborated in an SPTLC1-ALS pedigree in which the index patient uniquely presented with an HSAN1 phenotype, increased 1-deoxySL levels, and an L-serine deficiency. These data demonstrate how pathogenic variants in different domains of SPTLC1 give rise to distinct clinical presentations that are nonetheless modifiable by substrate availability.', 'sentences': [], 'annotations': [{'id': '31', 'infons': {'identifier': 'MESH:D000690', 'type': 'Disease'}, 'text': 'Amyotrophic lateral sclerosis', 'locations': [{'offset': 127, 'length': 29}]}, {'id': '32', 'infons': {'identifier': 'MESH:D019636', 'type': 'Disease'}, 'text': 'neurodegenerative disease', 'locations': [{'offset': 180, 'length': 25}]}, {'id': '33', 'infons': {'identifier': '10558', 'type': 'Gene', 'ncbi_homologene': '4681'}, 'text': 'SPTLC1', 'locations': [{'offset': 248, 'length': 6}]}, {'id': '34', 'infons': {'identifier': '189', 'type': 'Gene', 'ncbi_homologene': '37251'}, 'text': 'serine-palmitoyltransferase', 'locations': [{'offset': 266, 'length': 27}]}, {'id': '35', 'infons': {'identifier': '189', 'type': 'Gene', 'ncbi_homologene': '37251'}, 'text': 'SPT', 'locations': [{'offset': 295, 'length': 3}]}, {'id': '36', 'infons': {'identifier': 'MESH:D013107', 'type': 'Chemical'}, 'text': 'sphingolipids', 'locations': [{'offset': 360, 'length': 13}]}, {'id': '37', 'infons': {'identifier': '10558', 'type': 'Gene', 'ncbi_homologene': '4681'}, 'text': 'SPTLC1', 'locations': [{'offset': 401, 'length': 6}]}, {'id': '38', 'infons': {'identifier': '189', 'type': 'Gene', 'ncbi_homologene': '37251'}, 'text': 'SPT', 'locations': [{'offset': 510, 'length': 3}]}, {'id': '39', 'infons': {'identifier': '10558', 'type': 'Gene', 'ncbi_homologene': '4681'}, 'text': 'SPTLC1', 'locations': [{'offset': 620, 'length': 6}]}, {'id': '40', 'infons': {'identifier': 'MESH:D013107', 'type': 'Chemical'}, 'text': 'sphingolipid', 'locations': [{'offset': 663, 'length': 12}]}, {'id': '41', 'infons': {'identifier': 'MESH:D008055', 'type': 'Chemical'}, 'text': 'lipid', 'locations': [{'offset': 701, 'length': 5}]}, {'id': '42', 'infons': {'identifier': '10558', 'type': 'Gene', 'ncbi_homologene': '4681'}, 'text': 'SPTLC1', 'locations': [{'offset': 729, 'length': 6}]}, {'id': '43', 'infons': {'identifier': 'MESH:D000699', 'type': 'Disease'}, 'text': 'sensory neuropathy', 'locations': [{'offset': 766, 'length': 18}]}, {'id': '44', 'infons': {'identifier': '10558', 'type': 'Gene', 'ncbi_homologene': '4681'}, 'text': 'HSAN1', 'locations': [{'offset': 785, 'length': 5}]}, {'id': '45', 'infons': {'identifier': 'MESH:C537409', 'type': 'Disease'}, 'text': '1-deoxysphingolipids (1-deoxySLs', 'locations': [{'offset': 815, 'length': 32}]}, {'id': '46', 'infons': {'identifier': '189', 'type': 'Gene', 'ncbi_homologene': '37251'}, 'text': 'SPT', 'locations': [{'offset': 864, 'length': 3}]}, {'id': '47', 'infons': {'identifier': 'MESH:D000409', 'type': 'Chemical'}, 'text': 'L-alanine', 'locations': [{'offset': 880, 'length': 9}]}, {'id': '48', 'infons': {'identifier': 'MESH:D012694', 'type': 'Chemical'}, 'text': 'serine', 'locations': [{'offset': 903, 'length': 6}]}, {'id': '49', 'infons': {'identifier': 'MESH:D012694', 'type': 'Chemical'}, 'text': 'serine', 'locations': [{'offset': 922, 'length': 6}]}, {'id': '50', 'infons': {'identifier': '10558', 'type': 'Gene', 'ncbi_homologene': '4681'}, 'text': 'SPTLC1', 'locations': [{'offset': 945, 'length': 6}]}, {'id': '51', 'infons': {'identifier': '10558', 'type': 'Gene', 'ncbi_homologene': '4681'}, 'text': 'HSAN1', 'locations': [{'offset': 1038, 'length': 5}]}, {'id': '52', 'infons': {'identifier': '10558', 'type': 'Gene', 'ncbi_homologene': '4681'}, 'text': 'SPTLC1', 'locations': [{'offset': 1095, 'length': 6}]}, {'id': '53', 'infons': {'identifier': '9606', 'type': 'Species'}, 'text': 'patient', 'locations': [{'offset': 1134, 'length': 7}]}, {'id': '54', 'infons': {'identifier': '10558', 'type': 'Gene', 'ncbi_homologene': '4681'}, 'text': 'HSAN1', 'locations': [{'offset': 1169, 'length': 5}]}, {'id': '55', 'infons': {'identifier': 'MESH:C000626286', 'type': 'Chemical'}, 'text': '1-deoxySL', 'locations': [{'offset': 1196, 'length': 9}]}, {'id': '56', 'infons': {'identifier': 'MESH:D012694', 'type': 'Chemical'}, 'text': 'serine', 'locations': [{'offset': 1223, 'length': 6}]}, {'id': '57', 'infons': {'identifier': '10558', 'type': 'Gene', 'ncbi_homologene': '4681'}, 'text': 'SPTLC1', 'locations': [{'offset': 1313, 'length': 6}]}], 'relations': []}], 'relations': [], 'pmid': 35900868, 'pmcid': None, 'created': {'$date': 1659402000780}, 'accessions': ['chemical@MESH:D008055', 'chemical@MESH:C000626286', 'disease@MESH:D019636', 'chemical@MESH:D000409', 'gene@189', 'chemical@MESH:D012694', 'species@9606', 'disease@MESH:C537409', 'chemical@MESH:D013107', 'disease@MESH:D000690', 'gene@10558', 'disease@MESH:D000699'], 'journal': 'J Clin Invest', 'year': 2022, 'authors': ['Lone MA', 'Aaltonen MJ', 'Zidell A', 'Pedro HF', 'Morales Saute JA', 'Mathew S', 'Mohassel P', 'Bonnemann CG', 'Shoubridge EA', 'Hornemann T']}\n"
     ]
    }
   ],
   "source": [
    "with io.open(Inputfile,'r',encoding=\"utf-8\") as file_input:\n",
    "    pmidlist = {\"pmids\": [pmid.strip() for pmid in file_input.readlines()]}\n",
    "    \n",
    "for i in pmidlist['pmids']:\n",
    "    res_json.extend(SubmitPMIDList([i], Format, Bioconcept))"
   ]
  },
  {
   "cell_type": "code",
   "execution_count": 7,
   "id": "6c9dbdad-d443-4a8f-9fbe-f33e4dcbc648",
   "metadata": {
    "colab": {
     "base_uri": "https://localhost:8080/"
    },
    "id": "6c9dbdad-d443-4a8f-9fbe-f33e4dcbc648",
    "outputId": "fd825709-95bf-432a-ef1c-419f7b4d8456"
   },
   "outputs": [
    {
     "data": {
      "text/plain": [
       "[{'id': '2',\n",
       "  'infons': {'identifier': '10558', 'type': 'Gene', 'ncbi_homologene': '4681'},\n",
       "  'text': 'SPTLC1',\n",
       "  'locations': [{'offset': 0, 'length': 6}],\n",
       "  'Pmid': ['35900868']},\n",
       " {'id': '3',\n",
       "  'infons': {'identifier': 'MESH:D013107', 'type': 'Chemical'},\n",
       "  'text': 'sphingolipid',\n",
       "  'locations': [{'offset': 53, 'length': 12}],\n",
       "  'Pmid': ['35900868']},\n",
       " {'id': '31',\n",
       "  'infons': {'identifier': 'MESH:D000690', 'type': 'Disease'},\n",
       "  'text': 'Amyotrophic lateral sclerosis',\n",
       "  'locations': [{'offset': 127, 'length': 29}],\n",
       "  'Pmid': ['35900868']},\n",
       " {'id': '32',\n",
       "  'infons': {'identifier': 'MESH:D019636', 'type': 'Disease'},\n",
       "  'text': 'neurodegenerative disease',\n",
       "  'locations': [{'offset': 180, 'length': 25}],\n",
       "  'Pmid': ['35900868']},\n",
       " {'id': '33',\n",
       "  'infons': {'identifier': '10558', 'type': 'Gene', 'ncbi_homologene': '4681'},\n",
       "  'text': 'SPTLC1',\n",
       "  'locations': [{'offset': 248, 'length': 6}],\n",
       "  'Pmid': ['35900868']},\n",
       " {'id': '34',\n",
       "  'infons': {'identifier': '189', 'type': 'Gene', 'ncbi_homologene': '37251'},\n",
       "  'text': 'serine-palmitoyltransferase',\n",
       "  'locations': [{'offset': 266, 'length': 27}],\n",
       "  'Pmid': ['35900868']},\n",
       " {'id': '35',\n",
       "  'infons': {'identifier': '189', 'type': 'Gene', 'ncbi_homologene': '37251'},\n",
       "  'text': 'SPT',\n",
       "  'locations': [{'offset': 295, 'length': 3}],\n",
       "  'Pmid': ['35900868']},\n",
       " {'id': '36',\n",
       "  'infons': {'identifier': 'MESH:D013107', 'type': 'Chemical'},\n",
       "  'text': 'sphingolipids',\n",
       "  'locations': [{'offset': 360, 'length': 13}],\n",
       "  'Pmid': ['35900868']},\n",
       " {'id': '37',\n",
       "  'infons': {'identifier': '10558', 'type': 'Gene', 'ncbi_homologene': '4681'},\n",
       "  'text': 'SPTLC1',\n",
       "  'locations': [{'offset': 401, 'length': 6}],\n",
       "  'Pmid': ['35900868']},\n",
       " {'id': '38',\n",
       "  'infons': {'identifier': '189', 'type': 'Gene', 'ncbi_homologene': '37251'},\n",
       "  'text': 'SPT',\n",
       "  'locations': [{'offset': 510, 'length': 3}],\n",
       "  'Pmid': ['35900868']},\n",
       " {'id': '39',\n",
       "  'infons': {'identifier': '10558', 'type': 'Gene', 'ncbi_homologene': '4681'},\n",
       "  'text': 'SPTLC1',\n",
       "  'locations': [{'offset': 620, 'length': 6}],\n",
       "  'Pmid': ['35900868']},\n",
       " {'id': '40',\n",
       "  'infons': {'identifier': 'MESH:D013107', 'type': 'Chemical'},\n",
       "  'text': 'sphingolipid',\n",
       "  'locations': [{'offset': 663, 'length': 12}],\n",
       "  'Pmid': ['35900868']},\n",
       " {'id': '41',\n",
       "  'infons': {'identifier': 'MESH:D008055', 'type': 'Chemical'},\n",
       "  'text': 'lipid',\n",
       "  'locations': [{'offset': 701, 'length': 5}],\n",
       "  'Pmid': ['35900868']},\n",
       " {'id': '42',\n",
       "  'infons': {'identifier': '10558', 'type': 'Gene', 'ncbi_homologene': '4681'},\n",
       "  'text': 'SPTLC1',\n",
       "  'locations': [{'offset': 729, 'length': 6}],\n",
       "  'Pmid': ['35900868']},\n",
       " {'id': '43',\n",
       "  'infons': {'identifier': 'MESH:D000699', 'type': 'Disease'},\n",
       "  'text': 'sensory neuropathy',\n",
       "  'locations': [{'offset': 766, 'length': 18}],\n",
       "  'Pmid': ['35900868']},\n",
       " {'id': '44',\n",
       "  'infons': {'identifier': '10558', 'type': 'Gene', 'ncbi_homologene': '4681'},\n",
       "  'text': 'HSAN1',\n",
       "  'locations': [{'offset': 785, 'length': 5}],\n",
       "  'Pmid': ['35900868']},\n",
       " {'id': '45',\n",
       "  'infons': {'identifier': 'MESH:C537409', 'type': 'Disease'},\n",
       "  'text': '1-deoxysphingolipids (1-deoxySLs',\n",
       "  'locations': [{'offset': 815, 'length': 32}],\n",
       "  'Pmid': ['35900868']},\n",
       " {'id': '46',\n",
       "  'infons': {'identifier': '189', 'type': 'Gene', 'ncbi_homologene': '37251'},\n",
       "  'text': 'SPT',\n",
       "  'locations': [{'offset': 864, 'length': 3}],\n",
       "  'Pmid': ['35900868']},\n",
       " {'id': '47',\n",
       "  'infons': {'identifier': 'MESH:D000409', 'type': 'Chemical'},\n",
       "  'text': 'L-alanine',\n",
       "  'locations': [{'offset': 880, 'length': 9}],\n",
       "  'Pmid': ['35900868']},\n",
       " {'id': '48',\n",
       "  'infons': {'identifier': 'MESH:D012694', 'type': 'Chemical'},\n",
       "  'text': 'serine',\n",
       "  'locations': [{'offset': 903, 'length': 6}],\n",
       "  'Pmid': ['35900868']},\n",
       " {'id': '49',\n",
       "  'infons': {'identifier': 'MESH:D012694', 'type': 'Chemical'},\n",
       "  'text': 'serine',\n",
       "  'locations': [{'offset': 922, 'length': 6}],\n",
       "  'Pmid': ['35900868']},\n",
       " {'id': '50',\n",
       "  'infons': {'identifier': '10558', 'type': 'Gene', 'ncbi_homologene': '4681'},\n",
       "  'text': 'SPTLC1',\n",
       "  'locations': [{'offset': 945, 'length': 6}],\n",
       "  'Pmid': ['35900868']},\n",
       " {'id': '51',\n",
       "  'infons': {'identifier': '10558', 'type': 'Gene', 'ncbi_homologene': '4681'},\n",
       "  'text': 'HSAN1',\n",
       "  'locations': [{'offset': 1038, 'length': 5}],\n",
       "  'Pmid': ['35900868']},\n",
       " {'id': '52',\n",
       "  'infons': {'identifier': '10558', 'type': 'Gene', 'ncbi_homologene': '4681'},\n",
       "  'text': 'SPTLC1',\n",
       "  'locations': [{'offset': 1095, 'length': 6}],\n",
       "  'Pmid': ['35900868']},\n",
       " {'id': '53',\n",
       "  'infons': {'identifier': '9606', 'type': 'Species'},\n",
       "  'text': 'patient',\n",
       "  'locations': [{'offset': 1134, 'length': 7}],\n",
       "  'Pmid': ['35900868']},\n",
       " {'id': '54',\n",
       "  'infons': {'identifier': '10558', 'type': 'Gene', 'ncbi_homologene': '4681'},\n",
       "  'text': 'HSAN1',\n",
       "  'locations': [{'offset': 1169, 'length': 5}],\n",
       "  'Pmid': ['35900868']},\n",
       " {'id': '55',\n",
       "  'infons': {'identifier': 'MESH:C000626286', 'type': 'Chemical'},\n",
       "  'text': '1-deoxySL',\n",
       "  'locations': [{'offset': 1196, 'length': 9}],\n",
       "  'Pmid': ['35900868']},\n",
       " {'id': '56',\n",
       "  'infons': {'identifier': 'MESH:D012694', 'type': 'Chemical'},\n",
       "  'text': 'serine',\n",
       "  'locations': [{'offset': 1223, 'length': 6}],\n",
       "  'Pmid': ['35900868']},\n",
       " {'id': '57',\n",
       "  'infons': {'identifier': '10558', 'type': 'Gene', 'ncbi_homologene': '4681'},\n",
       "  'text': 'SPTLC1',\n",
       "  'locations': [{'offset': 1313, 'length': 6}],\n",
       "  'Pmid': ['35900868']}]"
      ]
     },
     "execution_count": 7,
     "metadata": {},
     "output_type": "execute_result"
    }
   ],
   "source": [
    "res_json"
   ]
  },
  {
   "cell_type": "code",
   "execution_count": 8,
   "id": "FOgnSFcUkmZV",
   "metadata": {
    "colab": {
     "base_uri": "https://localhost:8080/",
     "height": 486
    },
    "id": "FOgnSFcUkmZV",
    "outputId": "2e2b435c-83be-4ee0-afe1-6cc51e3396cb"
   },
   "outputs": [
    {
     "name": "stdout",
     "output_type": "stream",
     "text": [
      "SPTLC1\n",
      "sphingolipid\n",
      "SPTLC1\n",
      "serine-palmitoyltransferase\n",
      "SPT\n",
      "sphingolipids\n",
      "SPTLC1\n",
      "SPT\n",
      "SPTLC1\n",
      "sphingolipid\n",
      "lipid\n",
      "SPTLC1\n",
      "HSAN1\n",
      "SPT\n",
      "L-alanine\n",
      "serine\n",
      "serine\n",
      "SPTLC1\n",
      "HSAN1\n",
      "SPTLC1\n",
      "HSAN1\n",
      "1-deoxySL\n",
      "serine\n",
      "SPTLC1\n",
      "\n"
     ]
    },
    {
     "data": {
      "text/plain": [
       "\"\\nfor i in range(len(res_json)):\\n  if(res_json[i]['infons']['type'] == 'Gene' or res_json[i]['infons']['type'] == 'Chemical'):\\n    print(res_json[i]['text'], '\\n')\\n\""
      ]
     },
     "execution_count": 8,
     "metadata": {},
     "output_type": "execute_result"
    }
   ],
   "source": [
    "# Collect \"gene\" and \"chemical\" entities from pubtator\n",
    "f = open('Pubtator_entities.txt', mode='w')\n",
    "\n",
    "[f.write(res_json[i]['text'] + '\\n') for i in range(len(res_json)) if(res_json[i]['infons']['type'] == 'Gene' or res_json[i]['infons']['type'] == 'Chemical')]\n",
    "f.close()\n",
    "f = open('Pubtator_entities.txt', mode='r')\n",
    "print(f.read())\n",
    "Pub_ents = []\n",
    "for i in range(len(res_json)):\n",
    "  #if(res_json[i]['infons']['type'] == 'Gene' or res_json[i]['infons']['type'] == 'Chemical'):\n",
    "  Pub_ents.append(res_json[i]['text'])\n",
    "    \n",
    "'''\n",
    "for i in range(len(res_json)):\n",
    "  if(res_json[i]['infons']['type'] == 'Gene' or res_json[i]['infons']['type'] == 'Chemical'):\n",
    "    print(res_json[i]['text'], '\\n')\n",
    "'''\n"
   ]
  },
  {
   "cell_type": "code",
   "execution_count": 9,
   "id": "4fad2a76",
   "metadata": {},
   "outputs": [
    {
     "name": "stdout",
     "output_type": "stream",
     "text": [
      "['SPTLC1', 'sphingolipid', 'Amyotrophic lateral sclerosis', 'neurodegenerative disease', 'SPTLC1', 'serine-palmitoyltransferase', 'SPT', 'sphingolipids', 'SPTLC1', 'SPT', 'SPTLC1', 'sphingolipid', 'lipid', 'SPTLC1', 'sensory neuropathy', 'HSAN1', '1-deoxysphingolipids (1-deoxySLs', 'SPT', 'L-alanine', 'serine', 'serine', 'SPTLC1', 'HSAN1', 'SPTLC1', 'patient', 'HSAN1', '1-deoxySL', 'serine', 'SPTLC1']\n"
     ]
    }
   ],
   "source": [
    "[str(x) for x in Pub_ents]\n",
    "print(Pub_ents)"
   ]
  },
  {
   "cell_type": "code",
   "execution_count": 10,
   "id": "88d1a0bc",
   "metadata": {},
   "outputs": [],
   "source": [
    "# Text to test models on (from abstracts cited in ReadMe)\n",
    "input_text = 'Amyotrophic lateral sclerosis (ALS) is a progressive neurodegenerative disease that affects motor neurons. Mutations in the SPTLC1 subunit of serine palmitoyltransferase (SPT), which catalyzes the first step in the de novo synthesis of sphingolipids (SLs), cause childhood-onset ALS. SPTLC1-ALS variants map to a transmembrane domain that interacts with ORMDL proteins, negative regulators of SPT activity. We show that ORMDL binding to the holoenzyme complex is impaired in cells expressing pathogenic SPTLC1-ALS alleles, resulting in increased SL synthesis and a distinct lipid signature. C-terminal SPTLC1 variants cause peripheral hereditary sensory and autonomic neuropathy type 1 (HSAN1) due to the synthesis of 1-deoxysphingolipids (1-deoxySLs) that form when SPT metabolizes L-alanine instead of L-serine. Limiting L-serine availability in SPTLC1-ALS-expressing cells increased 1-deoxySL and shifted the SL profile from an ALS to an HSAN1-like signature. This effect was corroborated in an SPTLC1-ALS pedigree in which the index patient uniquely presented with an HSAN1 phenotype, increased 1-deoxySL levels, and an L-serine deficiency. These data demonstrate how pathogenic variants in different domains of SPTLC1 give rise to distinct clinical presentations that are nonetheless modifiable by substrate availability.'"
   ]
  },
  {
   "cell_type": "code",
   "execution_count": 11,
   "id": "47c8b381",
   "metadata": {},
   "outputs": [],
   "source": [
    "# get entities to compare to pubtator entities\n",
    "def getEntities(modelName):\n",
    "    nlp = spacy.load(modelName) #instantiate scispacy model\n",
    "    doc = nlp(input_text)\n",
    "    return doc.ents # entities created by the model"
   ]
  },
  {
   "cell_type": "code",
   "execution_count": 12,
   "id": "45e99da0",
   "metadata": {},
   "outputs": [],
   "source": [
    "# Function to instantiate a model and collect triples with Rebel and crosslingual_coreference\n",
    "def getTriples(modelName):\n",
    "    DEVICE = -1 # Number of the GPU, -1 if want to use CPU\n",
    "\n",
    "    # Add coreference resolution model\n",
    "    coref = spacy.load(modelName, disable=['ner', 'tagger', 'parser', 'attribute_ruler', 'lemmatizer'])\n",
    "    coref.add_pipe(\n",
    "        \"xx_coref\", config={\"chunk_size\": 2500, \"chunk_overlap\": 2, \"device\": DEVICE})\n",
    "\n",
    "\n",
    "    # Define rel extraction model\n",
    "    rel_ext = spacy.load(modelName, disable=['ner', 'lemmatizer', 'attribute_rules', 'tagger'])\n",
    "    rel_ext.add_pipe(\"rebel\", config={\n",
    "        'device':DEVICE, # Number of the GPU, -1 if want to use CPU\n",
    "        'model_name':'Babelscape/rebel-large'} # Model used, will default to 'Babelscape/rebel-large' if not given\n",
    "        )\n",
    "    coref_text = coref(input_text)._.resolved_text\n",
    "\n",
    "    doc = rel_ext(coref_text)\n",
    "\n",
    "    triples = []\n",
    "    for value, rel_dict in doc._.rel.items():\n",
    "        \n",
    "        new_dict = {}\n",
    "        new_dict['head'] = rel_dict['head_span']['text']\n",
    "        new_dict['rel'] = rel_dict['relation']\n",
    "        new_dict['tail'] = rel_dict['tail_span']['text']\n",
    "        triples.append(new_dict)\n",
    "\n",
    "    return triples"
   ]
  },
  {
   "cell_type": "markdown",
   "id": "7999c3b7",
   "metadata": {},
   "source": [
    "### TODO below"
   ]
  },
  {
   "cell_type": "code",
   "execution_count": 13,
   "id": "5484a0eb",
   "metadata": {},
   "outputs": [],
   "source": [
    "# Get recall for named entity recognition (NER) based on PubTator entities as ground truth\n",
    "def get_ner_recall(model_ents, modelName):\n",
    "    model_ents = [x.text for x in model_ents]\n",
    "\n",
    "    model_recall = 0\n",
    "    \n",
    "    \n",
    "    #TODO: SHould this be divided by Pub_ents or?????????????????????????????????????????????????????????????????????\n",
    "    \n",
    "    model_recall = sum([1 for x in model_ents if x in Pub_ents])/Pub_ents.__len__()\n",
    "    additional_recall = add_to_recall(model_ents)\n",
    "    model_recall += additional_recall\n",
    "    print('Percentage recall for ' + modelName + ': ', model_recall)"
   ]
  },
  {
   "cell_type": "code",
   "execution_count": 14,
   "id": "34121de7",
   "metadata": {
    "scrolled": true
   },
   "outputs": [],
   "source": [
    "from sentence_transformers import SentenceTransformer, util\n",
    "model = SentenceTransformer('all-MiniLM-L6-v2')"
   ]
  },
  {
   "cell_type": "code",
   "execution_count": 20,
   "id": "67fe8e8d",
   "metadata": {},
   "outputs": [],
   "source": [
    "# Function to add to recall percentage based on cosine similarity of terms that are not identical\n",
    "# Threshold for similarity determined by abstracts cited in ReadMe and domain expertise\n",
    "def add_to_recall(model_ents):\n",
    "    \n",
    "    #for x in range(len(model_ents)):\n",
    "    #    for y in range(len(Pub_ents)):\n",
    "    #        embeddings1 = model.encode(x, convert_to_tensor=True)\n",
    "    #        embeddings2 = model.encode(y, convert_to_tensor=True)\n",
    "    #        #Compute cosine-similarities\n",
    "    #        cosine_scores = util.cos_sim(embeddings1, embeddings2)\n",
    "    \n",
    "    # Remove words that already exist in Pub_ents (these\n",
    "    # are already accounted for)\n",
    "    #model_ents = [x.text for x in model_ents]\n",
    "    model_ents = [x for x in model_ents if x not in Pub_ents]\n",
    "    \n",
    "    #Compute embedding for both lists\n",
    "    embeddings1 = model.encode(model_ents, convert_to_tensor=True)\n",
    "    embeddings2 = model.encode(Pub_ents, convert_to_tensor=True)\n",
    "  \n",
    "    #Compute cosine-similarities\n",
    "    cosine_scores = util.cos_sim(embeddings1, embeddings2)\n",
    "    cosine_dict = {}\n",
    "    for i in range(len(cosine_scores)):\n",
    "        cosine_dict[model_ents[i]] = cosine_scores[i].tolist()\n",
    "    \n",
    "    # count to add to percentage correct recall\n",
    "    recall_count = 0\n",
    "    \n",
    "    # Word and similarity number for highest number for each row (each model ent)\n",
    "    for i in range(len(cosine_dict)):\n",
    "        print(list(cosine_dict.keys())[i], ': ')\n",
    "        print(max(list(cosine_dict.values())[i]), ' ', Pub_ents[list(cosine_dict.values())[i].index(max(list(cosine_dict.values())[i]))])\n",
    "        if (max(list(cosine_dict.values())[i]) > 0.75):\n",
    "            recall_count += 1\n",
    "        elif(max(list(cosine_dict.values())[i]) > 0.50 and max(list(cosine_dict.values())[i]) <= 0.75):\n",
    "            recall_count += max(list(cosine_dict.values())[i])\n",
    "    recall_count = recall_count/len(Pub_ents)\n",
    "    return recall_count\n",
    "        #TODO: if best match below some value or smthn, check for entailment \n",
    "        #      from str that are in Pub_ents with algorithmia textual_entailment\n",
    "        # Would this solve the problem of artificially high ner recall score \n",
    "        # due to multiple instances of the same entity being recognized >once?\n",
    "        # Is this even a concern bc all models tested the same ?"
   ]
  },
  {
   "cell_type": "code",
   "execution_count": 16,
   "id": "Y7-oEEqCVm-F",
   "metadata": {
    "id": "Y7-oEEqCVm-F"
   },
   "outputs": [],
   "source": [
    "Sci_md_ents = getEntities(\"en_core_sci_md\")\n",
    "#Sci_md_triples = getTriples(\"en_core_sci_md\")\n",
    "#print(Sci_md_triples)"
   ]
  },
  {
   "cell_type": "code",
   "execution_count": 17,
   "id": "81ef9d9d",
   "metadata": {},
   "outputs": [
    {
     "name": "stdout",
     "output_type": "stream",
     "text": [
      "(Amyotrophic lateral sclerosis, ALS, progressive, neurodegenerative disease, motor neurons, Mutations, SPTLC1 subunit, serine palmitoyltransferase, SPT, de novo, synthesis, sphingolipids, SLs, childhood-onset, ALS, SPTLC1-ALS, variants, transmembrane domain, ORMDL proteins, negative regulators, SPT, activity, ORMDL, binding, holoenzyme complex, impaired, cells, expressing, pathogenic, SPTLC1-ALS, alleles, increased, SL, synthesis, lipid signature, C-terminal SPTLC1, variants, peripheral hereditary sensory, autonomic neuropathy type 1, HSAN1, synthesis, 1-deoxysphingolipids, 1-deoxySLs, SPT, metabolizes, L-alanine, L-serine, L-serine, availability, SPTLC1-ALS-expressing cells, increased, 1-deoxySL, SL, profile, ALS, HSAN1-like signature, effect, SPTLC1-ALS, pedigree, index, patient, HSAN1, phenotype, increased, 1-deoxySL, levels, L-serine deficiency, data, pathogenic, variants, domains, SPTLC1, clinical presentations, modifiable, substrate, availability)\n"
     ]
    }
   ],
   "source": [
    "print(Sci_md_ents)"
   ]
  },
  {
   "cell_type": "code",
   "execution_count": 18,
   "id": "68a61ed1",
   "metadata": {
    "scrolled": true
   },
   "outputs": [
    {
     "name": "stdout",
     "output_type": "stream",
     "text": [
      "ALS : \n",
      "0.49601253867149353   Amyotrophic lateral sclerosis\n",
      "progressive : \n",
      "0.3143276870250702   patient\n",
      "motor neurons : \n",
      "0.3994305431842804   Amyotrophic lateral sclerosis\n",
      "Mutations : \n",
      "0.28211531043052673   patient\n",
      "SPTLC1 subunit : \n",
      "0.7980115413665771   SPTLC1\n",
      "serine palmitoyltransferase : \n",
      "0.9954445958137512   serine-palmitoyltransferase\n",
      "de novo : \n",
      "0.3745591640472412   1-deoxySL\n",
      "synthesis : \n",
      "0.2679099440574646   L-alanine\n",
      "SLs : \n",
      "0.32089465856552124   SPT\n",
      "childhood-onset : \n",
      "0.2590651512145996   neurodegenerative disease\n",
      "SPTLC1-ALS : \n",
      "0.6890350580215454   SPTLC1\n",
      "variants : \n",
      "0.31245529651641846   patient\n",
      "transmembrane domain : \n",
      "0.3611960709095001   sphingolipids\n",
      "ORMDL proteins : \n",
      "0.29700836539268494   serine-palmitoyltransferase\n",
      "negative regulators : \n",
      "0.25095686316490173   1-deoxySL\n",
      "activity : \n",
      "0.26917219161987305   patient\n",
      "ORMDL : \n",
      "0.2724124491214752   patient\n",
      "binding : \n",
      "0.19948479533195496   patient\n",
      "holoenzyme complex : \n",
      "0.2756074368953705   1-deoxysphingolipids (1-deoxySLs\n",
      "impaired : \n",
      "0.3521049916744232   patient\n",
      "cells : \n",
      "0.3031354248523712   lipid\n",
      "expressing : \n",
      "0.33483371138572693   patient\n",
      "pathogenic : \n",
      "0.3212026357650757   patient\n",
      "alleles : \n",
      "0.3100062906742096   lipid\n",
      "increased : \n",
      "0.29196545481681824   patient\n",
      "SL : \n",
      "0.36595410108566284   SPT\n",
      "lipid signature : \n",
      "0.7546668648719788   lipid\n",
      "C-terminal SPTLC1 : \n",
      "0.7585906386375427   SPTLC1\n",
      "peripheral hereditary sensory : \n",
      "0.6562957167625427   sensory neuropathy\n",
      "autonomic neuropathy type 1 : \n",
      "0.5955725908279419   sensory neuropathy\n",
      "1-deoxysphingolipids : \n",
      "0.9681656956672668   1-deoxysphingolipids (1-deoxySLs\n",
      "1-deoxySLs : \n",
      "0.953564465045929   1-deoxySL\n",
      "metabolizes : \n",
      "0.323099285364151   lipid\n",
      "L-serine : \n",
      "0.8178379535675049   serine\n",
      "availability : \n",
      "0.30499452352523804   patient\n",
      "SPTLC1-ALS-expressing cells : \n",
      "0.5594204068183899   SPTLC1\n",
      "profile : \n",
      "0.3373485505580902   HSAN1\n",
      "HSAN1-like signature : \n",
      "0.6734600067138672   HSAN1\n",
      "effect : \n",
      "0.3449321687221527   patient\n",
      "pedigree : \n",
      "0.2801404297351837   patient\n",
      "index : \n",
      "0.2480471134185791   serine\n",
      "phenotype : \n",
      "0.3023325800895691   patient\n",
      "levels : \n",
      "0.2838783264160156   HSAN1\n",
      "L-serine deficiency : \n",
      "0.6146379709243774   serine\n",
      "data : \n",
      "0.3001572787761688   patient\n",
      "domains : \n",
      "0.21910759806632996   HSAN1\n",
      "clinical presentations : \n",
      "0.3846495449542999   patient\n",
      "modifiable : \n",
      "0.17266033589839935   L-alanine\n",
      "substrate : \n",
      "0.30603888630867004   sphingolipid\n"
     ]
    },
    {
     "data": {
      "text/plain": [
       "0.372014543105816"
      ]
     },
     "execution_count": 18,
     "metadata": {},
     "output_type": "execute_result"
    }
   ],
   "source": [
    "add_to_recall(Sci_md_ents)"
   ]
  },
  {
   "cell_type": "code",
   "execution_count": 21,
   "id": "b6fe0d38",
   "metadata": {},
   "outputs": [
    {
     "name": "stdout",
     "output_type": "stream",
     "text": [
      "ALS : \n",
      "0.49601253867149353   Amyotrophic lateral sclerosis\n",
      "progressive : \n",
      "0.3143276870250702   patient\n",
      "motor neurons : \n",
      "0.3994305431842804   Amyotrophic lateral sclerosis\n",
      "Mutations : \n",
      "0.28211531043052673   patient\n",
      "SPTLC1 subunit : \n",
      "0.7980115413665771   SPTLC1\n",
      "serine palmitoyltransferase : \n",
      "0.9954445958137512   serine-palmitoyltransferase\n",
      "de novo : \n",
      "0.3745591640472412   1-deoxySL\n",
      "synthesis : \n",
      "0.2679099440574646   L-alanine\n",
      "SLs : \n",
      "0.32089465856552124   SPT\n",
      "childhood-onset : \n",
      "0.2590651512145996   neurodegenerative disease\n",
      "SPTLC1-ALS : \n",
      "0.6890350580215454   SPTLC1\n",
      "variants : \n",
      "0.31245529651641846   patient\n",
      "transmembrane domain : \n",
      "0.3611960709095001   sphingolipids\n",
      "ORMDL proteins : \n",
      "0.29700836539268494   serine-palmitoyltransferase\n",
      "negative regulators : \n",
      "0.25095686316490173   1-deoxySL\n",
      "activity : \n",
      "0.26917219161987305   patient\n",
      "ORMDL : \n",
      "0.2724124491214752   patient\n",
      "binding : \n",
      "0.19948479533195496   patient\n",
      "holoenzyme complex : \n",
      "0.2756074368953705   1-deoxysphingolipids (1-deoxySLs\n",
      "impaired : \n",
      "0.3521049916744232   patient\n",
      "cells : \n",
      "0.3031354248523712   lipid\n",
      "expressing : \n",
      "0.33483371138572693   patient\n",
      "pathogenic : \n",
      "0.3212026357650757   patient\n",
      "alleles : \n",
      "0.3100062906742096   lipid\n",
      "increased : \n",
      "0.29196545481681824   patient\n",
      "SL : \n",
      "0.36595410108566284   SPT\n",
      "lipid signature : \n",
      "0.7546668648719788   lipid\n",
      "C-terminal SPTLC1 : \n",
      "0.7585906386375427   SPTLC1\n",
      "peripheral hereditary sensory : \n",
      "0.6562957167625427   sensory neuropathy\n",
      "autonomic neuropathy type 1 : \n",
      "0.5955725908279419   sensory neuropathy\n",
      "1-deoxysphingolipids : \n",
      "0.9681656956672668   1-deoxysphingolipids (1-deoxySLs\n",
      "1-deoxySLs : \n",
      "0.953564465045929   1-deoxySL\n",
      "metabolizes : \n",
      "0.323099285364151   lipid\n",
      "L-serine : \n",
      "0.8178379535675049   serine\n",
      "availability : \n",
      "0.30499452352523804   patient\n",
      "SPTLC1-ALS-expressing cells : \n",
      "0.5594204068183899   SPTLC1\n",
      "profile : \n",
      "0.3373485505580902   HSAN1\n",
      "HSAN1-like signature : \n",
      "0.6734600067138672   HSAN1\n",
      "effect : \n",
      "0.3449321687221527   patient\n",
      "pedigree : \n",
      "0.2801404297351837   patient\n",
      "index : \n",
      "0.2480471134185791   serine\n",
      "phenotype : \n",
      "0.3023325800895691   patient\n",
      "levels : \n",
      "0.2838783264160156   HSAN1\n",
      "L-serine deficiency : \n",
      "0.6146379709243774   serine\n",
      "data : \n",
      "0.3001572787761688   patient\n",
      "domains : \n",
      "0.21910759806632996   HSAN1\n",
      "clinical presentations : \n",
      "0.3846495449542999   patient\n",
      "modifiable : \n",
      "0.17266033589839935   L-alanine\n",
      "substrate : \n",
      "0.30603888630867004   sphingolipid\n",
      "Percentage recall for Sci_md:  0.8202904051747815\n"
     ]
    }
   ],
   "source": [
    "get_ner_recall(Sci_md_ents, 'Sci_md')"
   ]
  },
  {
   "cell_type": "code",
   "execution_count": null,
   "id": "519de881",
   "metadata": {
    "scrolled": true
   },
   "outputs": [],
   "source": [
    "Sci_lg_ents = getEntities(\"en_core_sci_lg\")\n",
    "Sci_lg_triples = getTriples(\"en_core_sci_lg\")\n",
    "print(Sci_lg_triples)"
   ]
  },
  {
   "cell_type": "code",
   "execution_count": null,
   "id": "b872a2c0",
   "metadata": {},
   "outputs": [],
   "source": [
    "Sci_craft_ents = getEntities(\"en_ner_craft_md\")\n",
    "Sci_craft_triples = getTriples(\"en_ner_craft_md\")"
   ]
  },
  {
   "cell_type": "code",
   "execution_count": null,
   "id": "1be230fb",
   "metadata": {},
   "outputs": [],
   "source": [
    "Sci_bio_ents = getEntities(\"en_ner_bionlp13cg_md\")\n",
    "Sci_bio_triples = getTriples(\"en_ner_bionlp13cg_md\")"
   ]
  },
  {
   "cell_type": "code",
   "execution_count": null,
   "id": "7df9b71d",
   "metadata": {},
   "outputs": [],
   "source": [
    "get_ner_recall(Sci_md_ents, 'Sci_md')"
   ]
  },
  {
   "cell_type": "code",
   "execution_count": null,
   "id": "2af02c2f",
   "metadata": {},
   "outputs": [],
   "source": [
    "get_ner_recall(Sci_lg_ents, 'Sci_lg')"
   ]
  },
  {
   "cell_type": "code",
   "execution_count": null,
   "id": "9b9f6f9f",
   "metadata": {
    "scrolled": true
   },
   "outputs": [],
   "source": [
    "get_ner_recall(Sci_craft_ents, 'Sci_CRAFT')"
   ]
  },
  {
   "cell_type": "code",
   "execution_count": null,
   "id": "640761ea",
   "metadata": {
    "scrolled": true
   },
   "outputs": [],
   "source": [
    "get_ner_recall(Sci_bio_ents, 'Sci_BioNLP')"
   ]
  }
 ],
 "metadata": {
  "colab": {
   "provenance": []
  },
  "kernelspec": {
   "display_name": "Python 3 (ipykernel)",
   "language": "python",
   "name": "python3"
  },
  "language_info": {
   "codemirror_mode": {
    "name": "ipython",
    "version": 3
   },
   "file_extension": ".py",
   "mimetype": "text/x-python",
   "name": "python",
   "nbconvert_exporter": "python",
   "pygments_lexer": "ipython3",
   "version": "3.9.13"
  }
 },
 "nbformat": 4,
 "nbformat_minor": 5
}
